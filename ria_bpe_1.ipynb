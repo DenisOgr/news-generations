{
 "cells": [
  {
   "cell_type": "markdown",
   "metadata": {},
   "source": [
    "Steps experiments:\n",
    "- remove news more than 5k words \n",
    "- use BPE https://github.com/google/sentencepiece compess datasets \n",
    "- split it(dev/valid/test)\n",
    "- use dict from BPE to preprocess"
   ]
  },
  {
   "cell_type": "code",
   "execution_count": 1,
   "metadata": {
    "collapsed": true
   },
   "outputs": [],
   "source": [
    "import pandas as pd\n",
    "from sklearn.model_selection import train_test_split\n",
    "import re\n",
    "from tqdm import tqdm_notebook\n",
    "import os\n",
    "import numpy as np\n",
    "from datetime import datetime\n",
    "pd.set_option('display.max_colwidth', -1)\n",
    "import sentencepiece as spm\n"
   ]
  },
  {
   "cell_type": "code",
   "execution_count": 2,
   "metadata": {
    "collapsed": true
   },
   "outputs": [],
   "source": [
    "def create_dir(directory):\n",
    "    if not os.path.exists(directory):\n",
    "        os.makedirs(directory)\n",
    "def clean_news_text(text):\n",
    "    return  re.sub(\"(&#(?:\\d)*;)\", \"\", re.sub(\"<.*?>\", \"\", text)) \\\n",
    "    .replace(\"\\n\",\"\").replace(\"\\r\",\"\").replace(\"\\x96\",\"\") \\\n",
    "    .replace(\"&nbsp;\", \"\").replace(\"&mdash;\", \"\")\n",
    "    \n",
    "create_dir('./data/opennmt/ria_bpe_1')\n",
    "create_dir('./data/opennmt/ria_bpe_1/source')\n",
    "create_dir('./data/opennmt/ria_bpe_1/bpe')"
   ]
  },
  {
   "cell_type": "markdown",
   "metadata": {},
   "source": [
    "### Load  and Split long texts "
   ]
  },
  {
   "cell_type": "code",
   "execution_count": 10,
   "metadata": {
    "collapsed": true
   },
   "outputs": [],
   "source": [
    "chunksize = 1000\n",
    "news_reader = pd.read_json(\"./data/ria_news_dataset/ria.json.gz\", lines=True,  dtype=['object', 'object'], compression='gzip', chunksize=chunksize)\n"
   ]
  },
  {
   "cell_type": "code",
   "execution_count": 11,
   "metadata": {},
   "outputs": [
    {
     "data": {
      "application/vnd.jupyter.widget-view+json": {
       "model_id": "f4a095afdc2e42b7901d17f96a00252b",
       "version_major": 2,
       "version_minor": 0
      },
      "text/plain": [
       "HBox(children=(IntProgress(value=1, bar_style='info', max=1), HTML(value='')))"
      ]
     },
     "metadata": {},
     "output_type": "display_data"
    },
    {
     "name": "stdout",
     "output_type": "stream",
     "text": [
      "All rows:  958878\n"
     ]
    }
   ],
   "source": [
    "limit=5000\n",
    "count = 0\n",
    "with(open(\"./data/opennmt/ria_bpe_1/bpe/ria_title_5000.txt\", \"w\")) as f_title:\n",
    "    with(open(\"./data/opennmt/ria_bpe_1/bpe/ria_text_5000.txt\", \"w\")) as f_text:\n",
    "        for news_chunk in tqdm_notebook(news_reader):\n",
    "            news_chunk.text = news_chunk.text.apply(clean_news_text)\n",
    "            for _, row in news_chunk.iterrows():\n",
    "                if len(row.text) <=limit:\n",
    "                    f_title.write(row.title +\"\\n\")\n",
    "                    f_text.write(row.text +\"\\n\")\n",
    "                    count +=1\n",
    "\n",
    "print(\"All rows: \", count)"
   ]
  },
  {
   "cell_type": "markdown",
   "metadata": {},
   "source": [
    "### BPE"
   ]
  },
  {
   "cell_type": "code",
   "execution_count": null,
   "metadata": {
    "collapsed": true
   },
   "outputs": [],
   "source": [
    "spm.SentencePieceTrainer.train('--input=./data/opennmt/ria_bpe_1/bpe/ria_title_5000.txt,./data/opennmt/ria_bpe_1/bpe/ria_text_5000.txt --model_prefix=./data/opennmt/ria_bpe_1/bpe1 --vocab_size=30000 --model_type=bpe')"
   ]
  },
  {
   "cell_type": "code",
   "execution_count": null,
   "metadata": {
    "collapsed": true
   },
   "outputs": [],
   "source": [
    "sp_bpe = spm.SentencePieceProcessor()\n",
    "sp_bpe.load('./data/opennmt/ria_bpe_1/bpe1.model')"
   ]
  },
  {
   "cell_type": "code",
   "execution_count": null,
   "metadata": {
    "collapsed": true
   },
   "outputs": [],
   "source": []
  }
 ],
 "metadata": {
  "kernelspec": {
   "display_name": "opennmt",
   "language": "python",
   "name": "myenv"
  },
  "language_info": {
   "codemirror_mode": {
    "name": "ipython",
    "version": 3
   },
   "file_extension": ".py",
   "mimetype": "text/x-python",
   "name": "python",
   "nbconvert_exporter": "python",
   "pygments_lexer": "ipython3",
   "version": "3.7.4"
  }
 },
 "nbformat": 4,
 "nbformat_minor": 2
}
