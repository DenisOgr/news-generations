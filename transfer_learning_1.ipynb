{
 "cells": [
  {
   "cell_type": "markdown",
   "metadata": {},
   "source": [
    "This experiment purpose transfer learning. Using different models with origin (broadcast-news) data"
   ]
  },
  {
   "cell_type": "markdown",
   "metadata": {},
   "source": [
    "### data"
   ]
  },
  {
   "cell_type": "code",
   "execution_count": 1,
   "metadata": {
    "collapsed": true
   },
   "outputs": [],
   "source": [
    "import matplotlib.pyplot as plt"
   ]
  },
  {
   "cell_type": "code",
   "execution_count": 2,
   "metadata": {},
   "outputs": [
    {
     "name": "stdout",
     "output_type": "stream",
     "text": [
      "test_src.txt  train_src.txt valid_src.txt\r\n",
      "test_tgt.txt  train_tgt.txt valid_tgt.txt\r\n"
     ]
    }
   ],
   "source": [
    "!ls \"data/opennmt/all_2\""
   ]
  },
  {
   "cell_type": "code",
   "execution_count": 3,
   "metadata": {},
   "outputs": [],
   "source": [
    "lens_br = []\n",
    "with(open(\"data/opennmt/all_2/train_src.txt\", \"r\")) as f:\n",
    "    while True:\n",
    "        l = f.readline()\n",
    "        if not l:\n",
    "            break\n",
    "        lens_br.append(len(l))\n",
    "\n",
    "lens_news = []\n",
    "with(open(\"data/opennmt/all_2/train_tgt.txt\", \"r\")) as f:\n",
    "    while True:\n",
    "        l = f.readline()\n",
    "        if not l:\n",
    "            break\n",
    "        lens_news.append(len(l))\n"
   ]
  },
  {
   "cell_type": "code",
   "execution_count": 4,
   "metadata": {},
   "outputs": [
    {
     "name": "stdout",
     "output_type": "stream",
     "text": [
      "All broadcasts:  6143\n"
     ]
    },
    {
     "data": {
      "image/png": "[encoded data removed]",
      "text/plain": [
       "<Figure size 432x288 with 1 Axes>"
      ]
     },
     "metadata": {
      "needs_background": "light"
     },
     "output_type": "display_data"
    }
   ],
   "source": [
    "print(\"All broadcasts: \", len(lens_br));\n",
    "plt.hist(lens_br, bins=20);"
   ]
  },
  {
   "cell_type": "code",
   "execution_count": 5,
   "metadata": {},
   "outputs": [
    {
     "name": "stdout",
     "output_type": "stream",
     "text": [
      "All news:  6143\n"
     ]
    },
    {
     "data": {
      "image/png": "[encoded data removed]",
      "text/plain": [
       "<Figure size 432x288 with 1 Axes>"
      ]
     },
     "metadata": {
      "needs_background": "light"
     },
     "output_type": "display_data"
    }
   ],
   "source": [
    "print(\"All news: \", len(lens_news));\n",
    "plt.hist(lens_news, bins=20);"
   ]
  },
  {
   "cell_type": "code",
   "execution_count": 6,
   "metadata": {},
   "outputs": [
    {
     "name": "stdout",
     "output_type": "stream",
     "text": [
      "python: can't open file '/data/denisogr/opennmt/OpenNMT/preprocess.py': [Errno 2] No such file or directory\r\n"
     ]
    }
   ],
   "source": [
    "! python \"/data/denisogr/opennmt/OpenNMT/preprocess.py\" \\\n",
    "-train_src \"/data/denisogr/opennmt/origin/source/train_src.txt\" \\\n",
    "-train_tgt \"/data/denisogr/opennmt/origin/source/train_tgt.txt\" \\\n",
    "-valid_src \"/data/denisogr/opennmt/origin/source/valid_src.txt\" \\\n",
    "-valid_tgt \"/data/denisogr/opennmt/origin/source/valid_tgt.txt\" \\\n",
    "-save_data \"/data/denisogr/opennmt/origin/data/data\" \\\n",
    "-share_vocab \\\n",
    "-dynamic_dict \\\n",
    "-src_vocab_size 50000 \\\n",
    "-report_every 1000 \\\n",
    "-shard_size 1000 \\\n",
    "-src_seq_length 20000 \\\n",
    "-src_seq_length_trunc 15000 \\\n",
    "-tgt_seq_length 2500 \\\n",
    "-tgt_seq_length_trunc 2000"
   ]
  },
  {
   "cell_type": "markdown",
   "metadata": {},
   "source": [
    "### sport.ru news vs news 1"
   ]
  },
  {
   "cell_type": "code",
   "execution_count": null,
   "metadata": {
    "collapsed": true
   },
   "outputs": [],
   "source": [
    "! python \"/data/denisogr/opennmt/OpenNMT/train.py\" \\\n",
    "-data \"/data/denisogr/opennmt/origin/data/data\" \\\n",
    "-save_model \"/data/denisogr/opennmt/transfer_learning_1/model/s_n_vs_n_1\" \\\n",
    "-train_from \"/data/denisogr/opennmt/sport_ru_news_vs_news_1/model/model_step_100000.pt\" \\\n",
    "-share_embeddings \\\n",
    "-batch_type tokens \\\n",
    "-batch_size 32 \\\n",
    "-valid_batch_size 2 \\\n",
    "-copy_attn \\\n",
    "-global_attention mlp \\\n",
    "-word_vec_size 128 \\\n",
    "-rnn_size 512 \\\n",
    "-layers 1 \\\n",
    "-encoder_type brnn \\\n",
    "-max_grad_norm 2 \\\n",
    "-dropout 0. \\\n",
    "-optim adagrad \\\n",
    "-adagrad_accumulator_init 0.1 \\\n",
    "-reuse_copy_attn \\\n",
    "-copy_loss_by_seqlength \\\n",
    "-bridge \\\n",
    "-seed 42 \\\n",
    "-gpu_ranks 0 \\\n",
    "-save_checkpoint_steps 10000 \\\n",
    "-train_steps 200000 \\\n",
    "-learning_rate 0.001 \\\n",
    "-report_every 1000 \\\n",
    "-valid_steps 20000 \\\n",
    "-layers 4 \\\n",
    "-learning_rate 0.01 \\\n",
    "-encoder_type transformer \\\n",
    "-decoder_type transformer \\\n",
    "-rnn_size 128 \\\n",
    "-world_size 1 \\\n",
    "-log_file \"/data/denisogr/opennmt/transfer_learning_1/log/s_n_vs_n_1\""
   ]
  },
  {
   "cell_type": "code",
   "execution_count": null,
   "metadata": {},
   "outputs": [],
   "source": [
    "python \"/data/denisogr/opennmt/OpenNMT/translate.py\" \\\n",
    "-model \"/data/denisogr/opennmt/transfer_learning_1/model/s_n_vs_n_1_step_200000.pt\" \\\n",
    "-src \"/data/denisogr/opennmt/origin/source/test_src.txt\" \\\n",
    "-tgt \"/data/denisogr/opennmt/origin/source/test_tgt.txt\" \\\n",
    "-output \"/data/denisogr/opennmt/origin/source/test_s_n_vs_n_1_result.txt\" \\\n",
    "-beam_size 10 \\\n",
    "-dynamic_dict \\\n",
    "-share_vocab \\\n",
    "-batch_size 2 \\\n",
    "-batch_type sents \\\n",
    "-gpu 0 \\\n",
    "-seed 42"
   ]
  },
  {
   "cell_type": "markdown",
   "metadata": {},
   "source": [
    "````\n",
    "главный тренер <unk> <unk> <unk> поделился впечатлениями от матча чемпионата <unk> с <unk> \n",
    "<unk> <unk> <unk> <unk> <unk> <unk> <unk> <unk> <unk> <unk> <unk> \n",
    "<unk> <unk> <unk> <unk> <unk> <unk> <unk> <unk> <unk> <unk> <unk> <unk> \n",
    "<unk> <unk> <unk> <unk> <unk> <unk> <unk> <unk> <unk> <unk> <unk> <unk> \n",
    "<unk> <unk> <unk> <unk> <unk> <unk> <unk> <unk> <unk>│ <unk> <unk> <unk> \n",
    "<unk> <unk> <unk> <unk> <unk> <unk> <unk> <unk> <unk> <unk> <unk> <unk> \n",
    "<unk> <unk> <unk> <unk> <unk> <unk> <unk> <unk> <unk> <unk> <unk> <unk> \n",
    "<unk> <unk> <unk> <unk> <unk> <unk> <unk> <unk> <unk> <unk> <unk> \n",
    "<unk> <unk> <unk> <unk> <unk>\n",
    "```"
   ]
  },
  {
   "cell_type": "markdown",
   "metadata": {},
   "source": [
    "### sport.ru news vs news 2"
   ]
  },
  {
   "cell_type": "code",
   "execution_count": null,
   "metadata": {
    "collapsed": true
   },
   "outputs": [],
   "source": [
    "! python \"/data/denisogr/opennmt/OpenNMT/train.py\" \\\n",
    "-data \"/data/denisogr/opennmt/origin/data/data\" \\\n",
    "-save_model \"/data/denisogr/opennmt/transfer_learning_1/model/s_n_vs_n_2\" \\\n",
    "-train_from \"/data/denisogr/opennmt/sport_ru_news_vs_news_2/model/model_step_100000.pt\" \\\n",
    "-share_embeddings \\\n",
    "-batch_type tokens \\\n",
    "-batch_size 32 \\\n",
    "-valid_batch_size 2 \\\n",
    "-copy_attn \\\n",
    "-global_attention mlp \\\n",
    "-word_vec_size 128 \\\n",
    "-rnn_size 512 \\\n",
    "-layers 1 \\\n",
    "-encoder_type brnn \\\n",
    "-max_grad_norm 2 \\\n",
    "-dropout 0. \\\n",
    "-optim adagrad \\\n",
    "-adagrad_accumulator_init 0.1 \\\n",
    "-reuse_copy_attn \\\n",
    "-copy_loss_by_seqlength \\\n",
    "-bridge \\\n",
    "-seed 42 \\\n",
    "-gpu_ranks 0 \\\n",
    "-save_checkpoint_steps 10000 \\\n",
    "-train_steps 200000 \\\n",
    "-learning_rate 0.001 \\\n",
    "-report_every 1000 \\\n",
    "-valid_steps 20000 \\\n",
    "-layers 4 \\\n",
    "-learning_rate 0.01 \\\n",
    "-encoder_type transformer \\\n",
    "-decoder_type transformer \\\n",
    "-rnn_size 128 \\\n",
    "-world_size 1 \\\n",
    "-log_file \"/data/denisogr/opennmt/transfer_learning_1/log/s_n_vs_n_2\""
   ]
  },
  {
   "cell_type": "code",
   "execution_count": null,
   "metadata": {},
   "outputs": [],
   "source": [
    "python \"/data/denisogr/opennmt/OpenNMT/translate.py\" \\\n",
    "-model \"/data/denisogr/opennmt/transfer_learning_1/model/s_n_vs_n_2_step_200000.pt\" \\\n",
    "-src \"/data/denisogr/opennmt/origin/source/test_src.txt\" \\\n",
    "-tgt \"/data/denisogr/opennmt/origin/source/test_tgt.txt\" \\\n",
    "-output \"/data/denisogr/opennmt/origin/source/test_s_n_vs_n_2_result.txt\" \\\n",
    "-beam_size 10 \\\n",
    "-dynamic_dict \\\n",
    "-share_vocab \\\n",
    "-batch_size 2 \\\n",
    "-batch_type sents \\\n",
    "-gpu 0 \\\n",
    "-seed 42"
   ]
  },
  {
   "cell_type": "markdown",
   "metadata": {},
   "source": [
    "````\n",
    "в с с с с с - - - - - - - - - с - с - с - с с с с - с с - с с с - с с с с - с с с с - с с с с - с с с с с - с с с с с с - с с с с с с с - с с с с с с с с с - с с с с с с с с с с - с с с с с с с с с в\n",
    "в в в в в в в в в в в в в в в в в в в в в в в в в в в в в в в в в в в в в в в в в в в в в в в в в в в в в в в в в в в в в в в в в в в в в в в в в в в в в в в в в в в в в в в в в в в в в в в в\n",
    "в в в в в в в в в в в в в в в в в в в в в в в в в в в в в в в в в в в в в в в в в в в в в в в в в в в в в в в в в в в в в в в в в в в в в в в в в в в в в в в в в\n",
    "```"
   ]
  },
  {
   "cell_type": "markdown",
   "metadata": {},
   "source": [
    "### ria_2 news vs title"
   ]
  },
  {
   "cell_type": "code",
   "execution_count": null,
   "metadata": {
    "collapsed": true
   },
   "outputs": [],
   "source": [
    "! python \"/data/denisogr/opennmt/OpenNMT/train.py\" \\\n",
    "-data \"/data/denisogr/opennmt/origin/data/data\" \\\n",
    "-save_model \"/data/denisogr/opennmt/transfer_learning_1/model/ria_2\" \\\n",
    "-train_from \"/data/denisogr/opennmt/ria_2_sources/model/model_step_100000.pt\" \\\n",
    "-share_embeddings \\\n",
    "-batch_type tokens \\\n",
    "-batch_size 32 \\\n",
    "-valid_batch_size 2 \\\n",
    "-copy_attn \\\n",
    "-global_attention mlp \\\n",
    "-word_vec_size 128 \\\n",
    "-rnn_size 512 \\\n",
    "-layers 1 \\\n",
    "-encoder_type brnn \\\n",
    "-max_grad_norm 2 \\\n",
    "-dropout 0. \\\n",
    "-optim adagrad \\\n",
    "-adagrad_accumulator_init 0.1 \\\n",
    "-reuse_copy_attn \\\n",
    "-copy_loss_by_seqlength \\\n",
    "-bridge \\\n",
    "-seed 42 \\\n",
    "-gpu_ranks 0 \\\n",
    "-save_checkpoint_steps 10000 \\\n",
    "-train_steps 200000 \\\n",
    "-learning_rate 0.001 \\\n",
    "-report_every 1000 \\\n",
    "-valid_steps 20000 \\\n",
    "-layers 4 \\\n",
    "-learning_rate 0.01 \\\n",
    "-encoder_type transformer \\\n",
    "-decoder_type transformer \\\n",
    "-rnn_size 128 \\\n",
    "-world_size 1 \\\n",
    "-log_file \"/data/denisogr/opennmt/transfer_learning_1/log/ria_2\""
   ]
  },
  {
   "cell_type": "code",
   "execution_count": null,
   "metadata": {},
   "outputs": [],
   "source": [
    "python \"/data/denisogr/opennmt/OpenNMT/translate.py\" \\\n",
    "-model \"/data/denisogr/opennmt/transfer_learning_1/model/ria_2_step_200000.pt\" \\\n",
    "-src \"/data/denisogr/opennmt/origin/source/test_src.txt\" \\\n",
    "-tgt \"/data/denisogr/opennmt/origin/source/test_tgt.txt\" \\\n",
    "-output \"/data/denisogr/opennmt/origin/source/test_ria_2_result.txt\" \\\n",
    "-beam_size 10 \\\n",
    "-dynamic_dict \\\n",
    "-share_vocab \\\n",
    "-batch_size 2 \\\n",
    "-batch_type sents \\\n",
    "-gpu 0 \\\n",
    "-seed 42"
   ]
  },
  {
   "cell_type": "markdown",
   "metadata": {},
   "source": [
    "```\n",
    "<unk> <unk> <unk> <unk> <unk> <unk> <unk> <unk> <unk> <unk> <unk> <unk> <unk> <unk> <unk> <unk> <unk> <unk> <unk> <unk> <unk>\n",
    "<unk> <unk> <unk> <unk> <unk> <unk> <unk> <unk> <unk> <unk> <unk> <unk> <unk> <unk> <unk> <unk> <unk> <unk> <unk> <unk> <unk>\n",
    "<unk> <unk> <unk> <unk> <unk> <unk> <unk> <unk> <unk> <unk> <unk> <unk> <unk> <unk> <unk> <unk> <unk> <unk> <unk> <unk> <unk> <unk>\n",
    "<unk> <unk> <unk> <unk> <unk> <unk> <unk> <unk> <unk> <unk> <unk> <unk> <unk> <unk> <unk> <unk> <unk> <unk> <unk> <unk> <unk>\n",
    "<unk> <unk> <unk> <unk> <unk> <unk> <unk> <unk> <unk> <unk> <unk> <unk> <unk> <unk> <unk> <unk> <unk> <unk> <unk> <unk> <unk> <unk>\n",
    "<unk> <unk> <unk> <unk> <unk> <unk> <unk> <unk> <unk> <unk> <unk> <unk> <unk> <unk> <unk> <unk> <unk> <unk> <unk> <unk> <unk>\n",
    "```"
   ]
  },
  {
   "cell_type": "markdown",
   "metadata": {},
   "source": [
    "### title by first sentence + BPE"
   ]
  },
  {
   "cell_type": "markdown",
   "metadata": {},
   "source": [
    "Source: https://github.com/deepvk/headline_gen_onmt"
   ]
  },
  {
   "cell_type": "markdown",
   "metadata": {},
   "source": [
    "Encoding all_2/* to all_2/*.bpe"
   ]
  },
  {
   "cell_type": "code",
   "execution_count": 14,
   "metadata": {},
   "outputs": [],
   "source": [
    "import sentencepiece as spm\n",
    "from nltk.tokenize import sent_tokenize\n",
    "from tqdm import tqdm_notebook\n",
    "\n",
    "def encode_bpe(model, inp, out):\n",
    "    \"\"\"\n",
    "    borrowed from https://github.com/deepvk/headline_gen_onmt/blob/master/bpe.py\n",
    "    \"\"\"\n",
    "    sp = spm.SentencePieceProcessor()\n",
    "    sp.load(model)\n",
    "    with open(inp, encoding=\"utf-8\") as fin:\n",
    "         with open(out, \"wt\", encoding=\"utf-8\") as fout:\n",
    "            for line in tqdm_notebook(fin):\n",
    "                sents = sent_tokenize(line.strip())\n",
    "                enc_line = \"\"\n",
    "                for sent in sents:\n",
    "                    enc_line += \" \".join(sp.EncodeAsPieces(sent))\n",
    "                fout.write(enc_line + \"\\n\")\n"
   ]
  },
  {
   "cell_type": "code",
   "execution_count": 8,
   "metadata": {},
   "outputs": [
    {
     "name": "stdout",
     "output_type": "stream",
     "text": [
      "Dockerfile                  ria-model_40_step_100000.pt\r\n",
      "LICENSE                     ria.model\r\n",
      "README.md                   ria.vocab\r\n",
      "Untitled.ipynb              \u001b[31mrun.sh\u001b[m\u001b[m\r\n",
      "bpe.py                      unbpe.py\r\n"
     ]
    }
   ],
   "source": [
    "!ls ./headline_gen_onmt"
   ]
  },
  {
   "cell_type": "code",
   "execution_count": 9,
   "metadata": {},
   "outputs": [
    {
     "name": "stdout",
     "output_type": "stream",
     "text": [
      "ria.model ria.vocab\r\n"
     ]
    }
   ],
   "source": [
    "!ls \"./data/opennmt/transfer_learning_1/bpe/bpe_1\""
   ]
  },
  {
   "cell_type": "code",
   "execution_count": 10,
   "metadata": {},
   "outputs": [
    {
     "name": "stdout",
     "output_type": "stream",
     "text": [
      "test_src.txt  train_src.txt valid_src.txt\r\n",
      "test_tgt.txt  train_tgt.txt valid_tgt.txt\r\n"
     ]
    }
   ],
   "source": [
    "!ls ./data/opennmt/all_2"
   ]
  },
  {
   "cell_type": "code",
   "execution_count": 15,
   "metadata": {},
   "outputs": [
    {
     "data": {
      "application/vnd.jupyter.widget-view+json": {
       "model_id": "a3a86ec1d70a436ab0dbf7f4f2c05c40",
       "version_major": 2,
       "version_minor": 0
      },
      "text/plain": [
       "HBox(children=(IntProgress(value=1, bar_style='info', max=1), HTML(value='')))"
      ]
     },
     "metadata": {},
     "output_type": "display_data"
    },
    {
     "name": "stdout",
     "output_type": "stream",
     "text": [
      "\n"
     ]
    }
   ],
   "source": [
    "model=\"./data/opennmt/transfer_learning_1/bpe/bpe_1/ria.model\"\n",
    "encode_bpe(model, \"./data/opennmt/all_2/test_src.txt\", \"./data/opennmt/transfer_learning_1/source/bpe_1/test_src.bpe\")\n",
    "           \n",
    "           "
   ]
  },
  {
   "cell_type": "code",
   "execution_count": 16,
   "metadata": {},
   "outputs": [
    {
     "data": {
      "application/vnd.jupyter.widget-view+json": {
       "model_id": "081c92b559684bd1bec026e32652a126",
       "version_major": 2,
       "version_minor": 0
      },
      "text/plain": [
       "HBox(children=(IntProgress(value=1, bar_style='info', max=1), HTML(value='')))"
      ]
     },
     "metadata": {},
     "output_type": "display_data"
    },
    {
     "name": "stdout",
     "output_type": "stream",
     "text": [
      "\n"
     ]
    },
    {
     "data": {
      "application/vnd.jupyter.widget-view+json": {
       "model_id": "91488bc1ded347f88299d37b4ce23c7b",
       "version_major": 2,
       "version_minor": 0
      },
      "text/plain": [
       "HBox(children=(IntProgress(value=1, bar_style='info', max=1), HTML(value='')))"
      ]
     },
     "metadata": {},
     "output_type": "display_data"
    },
    {
     "name": "stdout",
     "output_type": "stream",
     "text": [
      "\n"
     ]
    },
    {
     "data": {
      "application/vnd.jupyter.widget-view+json": {
       "model_id": "7d456851b28d451e8036d314614d84b4",
       "version_major": 2,
       "version_minor": 0
      },
      "text/plain": [
       "HBox(children=(IntProgress(value=1, bar_style='info', max=1), HTML(value='')))"
      ]
     },
     "metadata": {},
     "output_type": "display_data"
    },
    {
     "name": "stdout",
     "output_type": "stream",
     "text": [
      "\n"
     ]
    },
    {
     "data": {
      "application/vnd.jupyter.widget-view+json": {
       "model_id": "a450b36c419441e4bfbf9c2568d6bc1a",
       "version_major": 2,
       "version_minor": 0
      },
      "text/plain": [
       "HBox(children=(IntProgress(value=1, bar_style='info', max=1), HTML(value='')))"
      ]
     },
     "metadata": {},
     "output_type": "display_data"
    },
    {
     "name": "stdout",
     "output_type": "stream",
     "text": [
      "\n"
     ]
    },
    {
     "data": {
      "application/vnd.jupyter.widget-view+json": {
       "model_id": "c31459df61304afa8092a05e2fd2841d",
       "version_major": 2,
       "version_minor": 0
      },
      "text/plain": [
       "HBox(children=(IntProgress(value=1, bar_style='info', max=1), HTML(value='')))"
      ]
     },
     "metadata": {},
     "output_type": "display_data"
    },
    {
     "name": "stdout",
     "output_type": "stream",
     "text": [
      "\n"
     ]
    }
   ],
   "source": [
    "encode_bpe(model, \"./data/opennmt/all_2/test_tgt.txt\", \"./data/opennmt/transfer_learning_1/source/bpe_1/test_tgt.bpe\")\n",
    "encode_bpe(model, \"./data/opennmt/all_2/train_src.txt\", \"./data/opennmt/transfer_learning_1/source/bpe_1/train_src.bpe\")\n",
    "encode_bpe(model, \"./data/opennmt/all_2/train_tgt.txt\", \"./data/opennmt/transfer_learning_1/source/bpe_1/train_tgt.bpe\")\n",
    "encode_bpe(model, \"./data/opennmt/all_2/valid_src.txt\", \"./data/opennmt/transfer_learning_1/source/bpe_1/valid_src.bpe\")\n",
    "encode_bpe(model, \"./data/opennmt/all_2/valid_tgt.txt\", \"./data/opennmt/transfer_learning_1/source/bpe_1/valid_tgt.bpe\")\n"
   ]
  },
  {
   "cell_type": "code",
   "execution_count": 17,
   "metadata": {},
   "outputs": [
    {
     "name": "stdout",
     "output_type": "stream",
     "text": [
      "    6143 ./data/opennmt/transfer_learning_1/source/bpe_1/train_src.bpe\n",
      "    6143 ./data/opennmt/transfer_learning_1/source/bpe_1/train_tgt.bpe\n",
      "     767 ./data/opennmt/transfer_learning_1/source/bpe_1/test_src.bpe\n",
      "     767 ./data/opennmt/transfer_learning_1/source/bpe_1/test_tgt.bpe\n",
      "     760 ./data/opennmt/transfer_learning_1/source/bpe_1/valid_src.bpe\n",
      "     760 ./data/opennmt/transfer_learning_1/source/bpe_1/valid_tgt.bpe\n"
     ]
    }
   ],
   "source": [
    "!wc -l ./data/opennmt/transfer_learning_1/source/bpe_1/train_src.bpe\n",
    "!wc -l ./data/opennmt/transfer_learning_1/source/bpe_1/train_tgt.bpe\n",
    "!wc -l ./data/opennmt/transfer_learning_1/source/bpe_1/test_src.bpe\n",
    "!wc -l ./data/opennmt/transfer_learning_1/source/bpe_1/test_tgt.bpe\n",
    "!wc -l ./data/opennmt/transfer_learning_1/source/bpe_1/valid_src.bpe\n",
    "!wc -l ./data/opennmt/transfer_learning_1/source/bpe_1/valid_tgt.bpe"
   ]
  },
  {
   "cell_type": "code",
   "execution_count": null,
   "metadata": {},
   "outputs": [],
   "source": [
    "! python \"/data/denisogr/opennmt/OpenNMT/preprocess.py\" \\\n",
    "-train_src \"/data/denisogr/opennmt/origin/source/bpe_1/train_src.bpe\" \\\n",
    "-train_tgt \"/data/denisogr/opennmt/origin/source/bpe_1/train_tgt.bpe\" \\\n",
    "-valid_src \"/data/denisogr/opennmt/origin/source/bpe_1/valid_src.bpe\" \\\n",
    "-valid_tgt \"/data/denisogr/opennmt/origin/source/bpe_1/valid_tgt.bpe\" \\\n",
    "-save_data \"/data/denisogr/opennmt/origin/data/bpe_1\" \\\n",
    "-share_vocab \\\n",
    "-dynamic_dict \\\n",
    "-src_vocab_size 50000 \\\n",
    "-report_every 1000 \\\n",
    "-shard_size 1000 \\\n",
    "-src_seq_length 20000 \\\n",
    "-src_seq_length_trunc 15000 \\\n",
    "-tgt_seq_length 2500 \\\n",
    "-tgt_seq_length_trunc 2000"
   ]
  },
  {
   "cell_type": "code",
   "execution_count": null,
   "metadata": {},
   "outputs": [],
   "source": [
    "! python \"/data/denisogr/opennmt/OpenNMT-old/train.py\" \\\n",
    "-data \"/data/denisogr/opennmt/origin/data/bpe_1\" \\\n",
    "-save_model \"/data/denisogr/opennmt/transfer_learning_1/model/bpe_1\" \\\n",
    "-train_from \"/data/denisogr/opennmt/transfer_learning_1/model/ria-model_40_step_100000.pt\" \\\n",
    "-share_embeddings \\\n",
    "-batch_type tokens \\\n",
    "-batch_size 32 \\\n",
    "-valid_batch_size 2 \\\n",
    "-copy_attn \\\n",
    "-global_attention mlp \\\n",
    "-word_vec_size 128 \\\n",
    "-rnn_size 512 \\\n",
    "-layers 1 \\\n",
    "-encoder_type brnn \\\n",
    "-max_grad_norm 2 \\\n",
    "-dropout 0. \\\n",
    "-optim adagrad \\\n",
    "-adagrad_accumulator_init 0.1 \\\n",
    "-reuse_copy_attn \\\n",
    "-copy_loss_by_seqlength \\\n",
    "-bridge \\\n",
    "-seed 42 \\\n",
    "-gpu_ranks 0 \\\n",
    "-save_checkpoint_steps 10000 \\\n",
    "-train_steps 200000 \\\n",
    "-learning_rate 0.001 \\\n",
    "-report_every 1000 \\\n",
    "-valid_steps 20000 \\\n",
    "-layers 4 \\\n",
    "-learning_rate 0.01 \\\n",
    "-encoder_type transformer \\\n",
    "-decoder_type transformer \\\n",
    "-rnn_size 128 \\\n",
    "-world_size 1 \\\n",
    "-log_file \"/data/denisogr/opennmt/transfer_learning_1/log/bpe_1\""
   ]
  }
 ],
 "metadata": {
  "kernelspec": {
   "display_name": "opennmt",
   "language": "python",
   "name": "myenv"
  },
  "language_info": {
   "codemirror_mode": {
    "name": "ipython",
    "version": 3
   },
   "file_extension": ".py",
   "mimetype": "text/x-python",
   "name": "python",
   "nbconvert_exporter": "python",
   "pygments_lexer": "ipython3",
   "version": "3.7.4"
  }
 },
 "nbformat": 4,
 "nbformat_minor": 2
}
