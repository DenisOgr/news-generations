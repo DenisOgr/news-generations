{
 "cells": [
  {
   "cell_type": "code",
   "execution_count": 31,
   "metadata": {},
   "outputs": [],
   "source": [
    "import pandas as pd\n",
    "from sklearn.model_selection import train_test_split\n",
    "import re\n",
    "from tqdm import tqdm_notebook\n",
    "import os\n",
    "import numpy as np\n",
    "from datetime import datetime"
   ]
  },
  {
   "cell_type": "code",
   "execution_count": 4,
   "metadata": {},
   "outputs": [],
   "source": [
    "# #to Google Collab\n",
    "# from google.colab import drive\n",
    "# drive.mount('/content/gdrive')\n",
    "# path_to_storage = '/content/gdrive/My Drive/UCU-diploma/openNMT'"
   ]
  },
  {
   "cell_type": "code",
   "execution_count": 5,
   "metadata": {},
   "outputs": [],
   "source": [
    "# !git clone https://github.com/OpenNMT/OpenNMT-py.git OpenNMT\n",
    "# !cd ./OpenNMT    \n",
    "# !pip install -r requirements.txt"
   ]
  },
  {
   "cell_type": "code",
   "execution_count": 6,
   "metadata": {},
   "outputs": [],
   "source": [
    "dir_to_all = './data/opennmt/all_2'\n",
    "dir_to_after = './data/opennmt/after'\n",
    "def create_dir(directory):\n",
    "    if not os.path.exists(directory):\n",
    "        os.makedirs(directory)\n",
    "\n",
    "create_dir(dir_to_all)\n",
    "create_dir(dir_to_after)"
   ]
  },
  {
   "cell_type": "code",
   "execution_count": 7,
   "metadata": {},
   "outputs": [],
   "source": [
    "dtypes_br = {\n",
    "    'match_id': 'int64',\n",
    "    'team1': 'object',\n",
    "    'team2': 'object',\n",
    "    'name': 'object',\n",
    "    'match_time': 'int64',\n",
    "    'type': 'category',\n",
    "    'minute': 'int64',\n",
    "    'content': 'object',\n",
    "    'message_time':'int64'\n",
    "}\n",
    "broadcasts = pd.read_csv('data/ods_broadcasts_201905301157.csv',\n",
    "                 header=0, \n",
    "                 usecols=dtypes_br.keys(), \n",
    "                 skipinitialspace=True,\n",
    "                 skip_blank_lines=True,\n",
    "                 encoding='utf-8')\n",
    "broadcasts.content.apply(str)\n",
    "broadcasts = broadcasts.dropna(subset=['content'])\n",
    "dtypes_ns = {\n",
    "    'id': 'int64',\n",
    "    'name': 'object',\n",
    "    'ctime': 'int64',\n",
    "    'body': 'object',\n",
    "    'match_id': 'int64',\n",
    "}\n",
    "\n",
    "news = pd.read_csv('data/ods_match_news.csv',\n",
    "                 header=0, \n",
    "                 usecols=dtypes_ns.keys(), \n",
    "                 skipinitialspace=True,\n",
    "                 skip_blank_lines=True,\n",
    "                 encoding='utf-8')\n",
    "news = news.dropna(subset=['body'])\n",
    "news = news[news.match_id != 787015]"
   ]
  },
  {
   "cell_type": "code",
   "execution_count": 44,
   "metadata": {},
   "outputs": [],
   "source": [
    "def time_type_news(one_news, one_broadcasts):\n",
    "    assert type(one_news) == pd.core.series.Series, \"one_news should be Series\"\n",
    "    assert type(one_broadcasts) == pd.core.series.Series, \"one_news should be Series\"\n",
    "    before = 'before'\n",
    "    after = 'after'\n",
    "    time_match = datetime.fromtimestamp(one_broadcasts.match_time)\n",
    "    time_news  = datetime.strptime(one_news.ctime, \"%Y-%m-%d %H:%M:%S\")\n",
    "    #print(\"time match: \", time_match)\n",
    "    #print(\"time news: \", time_news)\n",
    "    return before if time_news < time_match else after"
   ]
  },
  {
   "cell_type": "code",
   "execution_count": 45,
   "metadata": {},
   "outputs": [],
   "source": [
    "def clean_news_text(text):\n",
    "    return  re.sub(\"(&#(?:\\d)*;)\", \"\", re.sub(\"<.*?>\", \"\", text)).replace(\"\\n\",\"\").replace(\"\\r\",\"\").replace(\"\\x96\",\"\")"
   ]
  },
  {
   "cell_type": "code",
   "execution_count": 46,
   "metadata": {},
   "outputs": [
    {
     "name": "stdout",
     "output_type": "stream",
     "text": [
      "Len X_train:  6143\n",
      "Len X_val:  760\n",
      "Len X_test:  767\n"
     ]
    }
   ],
   "source": [
    "X_train, X_test = train_test_split(news.match_id.unique(), test_size=0.1, random_state=42)\n",
    "X_train, X_val = train_test_split(X_train, test_size=0.11, random_state=42)\n",
    "print(\"Len X_train: \", len(X_train))\n",
    "print(\"Len X_val: \", len(X_val))\n",
    "print(\"Len X_test: \", len(X_test))"
   ]
  },
  {
   "cell_type": "code",
   "execution_count": 52,
   "metadata": {},
   "outputs": [],
   "source": [
    "def create_dataset(X, type_ds, to_dir):\n",
    "    assert type_ds in ['test','train', 'valid']\n",
    "    create_dir(to_dir)\n",
    "    count_lines = 0\n",
    "    src_file = \"%s/%s_src.broad.txt\"%(to_dir,type_ds)\n",
    "    tgt_file = \"%s/%s_tgt.news.txt\"%(to_dir,type_ds)\n",
    "    with(open(src_file, 'w')) as f_broad:\n",
    "        with(open(tgt_file, 'w')) as f_news:\n",
    "            for match_id in tqdm_notebook(X):\n",
    "                #print(\"match_id: \", match_id)\n",
    "                \n",
    "                text_br = clean_news_text(\" \".join(broadcasts[broadcasts['match_id']==match_id]['content']).lower())+\"\\n\"\n",
    "                try:\n",
    "                    cur_one_broadcast = broadcasts[broadcasts['match_id']==match_id].iloc[0]\n",
    "                except:\n",
    "                    print(match_id) \n",
    "                news_scope = news[news.match_id==match_id]\n",
    "                min_lenght = np.inf\n",
    "                min_idx = 0\n",
    "                for i in range(len(news_scope)):\n",
    "                    cur_news = news_scope.iloc[i]\n",
    "                    ttn = time_type_news(cur_news, cur_one_broadcast)\n",
    "                    if ttn == 'after':\n",
    "                        cur_len = len(clean_news_text(cur_news.body))\n",
    "                        #print(\"cur_len: \", cur_len, \" cur_idx: \", i)\n",
    "                        if cur_len < min_lenght:\n",
    "                            min_lenght = cur_len\n",
    "                            min_idx = i\n",
    "                #print(\"Final len: \", min_lenght, \" Final idx: \", min_idx)\n",
    "                text_news = clean_news_text(news_scope.iloc[min_idx].body.lower())+\"\\n\"\n",
    "                #print(\"Fact len: \", len(text_news))\n",
    "                f_broad.write(text_br)\n",
    "                f_news.write(text_news)\n",
    "                count_lines +=1\n",
    "    print(\"Source file: \", src_file)\n",
    "    print(\"Target file: \", tgt_file)\n",
    "    print(\"Count lines: \",count_lines)"
   ]
  },
  {
   "cell_type": "code",
   "execution_count": 55,
   "metadata": {},
   "outputs": [
    {
     "name": "stdout",
     "output_type": "stream",
     "text": [
      "Build train dataset\n"
     ]
    },
    {
     "data": {
      "application/vnd.jupyter.widget-view+json": {
       "model_id": "0197983bc41f4d1095968e1d1144a974",
       "version_major": 2,
       "version_minor": 0
      },
      "text/plain": [
       "HBox(children=(IntProgress(value=0, max=6143), HTML(value='')))"
      ]
     },
     "metadata": {},
     "output_type": "display_data"
    },
    {
     "name": "stdout",
     "output_type": "stream",
     "text": [
      "Source file:  ./data/opennmt/all_2/train_src.broad.txt\n",
      "Target file:  ./data/opennmt/all_2/train_tgt.news.txt\n",
      "Count lines:  6143\n",
      "Build test dataset\n"
     ]
    },
    {
     "data": {
      "application/vnd.jupyter.widget-view+json": {
       "model_id": "16028fe3f9654477aea745cc760996fe",
       "version_major": 2,
       "version_minor": 0
      },
      "text/plain": [
       "HBox(children=(IntProgress(value=0, max=767), HTML(value='')))"
      ]
     },
     "metadata": {},
     "output_type": "display_data"
    },
    {
     "name": "stdout",
     "output_type": "stream",
     "text": [
      "Source file:  ./data/opennmt/all_2/test_src.broad.txt\n",
      "Target file:  ./data/opennmt/all_2/test_tgt.news.txt\n",
      "Count lines:  767\n",
      "Build valid dataset\n"
     ]
    },
    {
     "data": {
      "application/vnd.jupyter.widget-view+json": {
       "model_id": "10096f135100458997c4057d96d66682",
       "version_major": 2,
       "version_minor": 0
      },
      "text/plain": [
       "HBox(children=(IntProgress(value=0, max=760), HTML(value='')))"
      ]
     },
     "metadata": {},
     "output_type": "display_data"
    },
    {
     "name": "stdout",
     "output_type": "stream",
     "text": [
      "Source file:  ./data/opennmt/all_2/valid_src.broad.txt\n",
      "Target file:  ./data/opennmt/all_2/valid_tgt.news.txt\n",
      "Count lines:  760\n"
     ]
    }
   ],
   "source": [
    "print(\"Build train dataset\")\n",
    "create_dataset(X_train, 'train', \"./data/opennmt/all_2\")\n",
    "print(\"Build test dataset\")\n",
    "create_dataset(X_test, 'test', \"./data/opennmt/all_2\")\n",
    "print(\"Build valid dataset\")\n",
    "create_dataset(X_val, 'valid', \"./data/opennmt/all_2\")"
   ]
  },
  {
   "cell_type": "code",
   "execution_count": 57,
   "metadata": {},
   "outputs": [
    {
     "name": "stdout",
     "output_type": "stream",
     "text": [
      "    6143 ./data/opennmt/all_2/train_src.broad.txt\n",
      "    6143 ./data/opennmt/all_2/train_tgt.news.txt\n",
      "     767 ./data/opennmt/all_2/test_src.broad.txt\n",
      "     767 ./data/opennmt/all_2/test_tgt.news.txt\n",
      "     760 ./data/opennmt/all_2/valid_src.broad.txt\n",
      "     760 ./data/opennmt/all_2/valid_tgt.news.txt\n"
     ]
    }
   ],
   "source": [
    "!wc -l ./data/opennmt/all_2/train_src.broad.txt\n",
    "!wc -l ./data/opennmt/all_2/train_tgt.news.txt\n",
    "!wc -l ./data/opennmt/all_2/test_src.broad.txt\n",
    "!wc -l ./data/opennmt/all_2/test_tgt.news.txt\n",
    "!wc -l ./data/opennmt/all_2/valid_src.broad.txt\n",
    "!wc -l ./data/opennmt/all_2/valid_tgt.news.txt"
   ]
  },
  {
   "cell_type": "code",
   "execution_count": 59,
   "metadata": {},
   "outputs": [],
   "source": [
    "create_dir(\"./data/opennmt/data_2\")"
   ]
  },
  {
   "cell_type": "code",
   "execution_count": 58,
   "metadata": {},
   "outputs": [],
   "source": [
    "! python ./OpenNMT-py/preprocess.py \\\n",
    "-train_src ./dafta/opennmt/all_2/train_src.broad.txt \\\n",
    "-train_tgt ./data/opennmt/all_2/train_tgt.news.txt \\\n",
    "-valid_src ./data/opennmt/all_2/valid_src.broad.txt \\\n",
    "-valid_tgt ./data/opennmt/all_2/valid_tgt.news.txt \\\n",
    "-save_data ./data/opennmt/data_2/data \\\n",
    "-share_vocab \\\n",
    "-dynamic_dict \\\n",
    "-src_vocab_size 50000 \\\n",
    "-report_every 1000\n"
   ]
  },
  {
   "cell_type": "code",
   "execution_count": null,
   "metadata": {},
   "outputs": [],
   "source": [
    "! python ./OpenNMT/train.py \\\n",
    "-data \"/content/gdrive/My Drive/UCU-diploma/openNMT/opennmt/data_2/data\" \\\n",
    "-save_model \"/content/gdrive/My Drive/UCU-diploma/openNMT/opennmt/data_2/model\" \\\n",
    "-share_embeddings \\\n",
    "-batch_type tokens \\\n",
    "-batch_size 64 \\\n",
    "-valid_batch_size 2 \\\n",
    "-copy_attn \\\n",
    "-global_attention mlp \\\n",
    "-word_vec_size 128 \\\n",
    "-rnn_size 512 \\\n",
    "-layers 1 \\\n",
    "-encoder_type brnn \\\n",
    "-max_grad_norm 2 \\\n",
    "-dropout 0. \\\n",
    "-optim adagrad \\\n",
    "-adagrad_accumulator_init 0.1 \\\n",
    "-reuse_copy_attn \\\n",
    "-copy_loss_by_seqlength \\\n",
    "-bridge \\\n",
    "-seed 42 \\\n",
    "-gpu_ranks 0 \\\n",
    "-save_checkpoint_steps 10000 \\\n",
    "-train_steps 100000 \\\n",
    "-learning_rate 0.001 \\\n",
    "-report_every 1000 \\\n",
    "-valid_steps 1000"
   ]
  },
  {
   "cell_type": "code",
   "execution_count": null,
   "metadata": {},
   "outputs": [],
   "source": [
    "! python ./OpenNMT/translate.py \\\n",
    "-model \"/content/gdrive/My Drive/UCU-diploma/openNMT/opennmt/data_shared/model_step_66000.pt\" \\\n",
    "-src \"/content/gdrive/My Drive/UCU-diploma/openNMT/opennmt/all/test_src.broad.txt\" \\\n",
    "-tgt \"/content/gdrive/My Drive/UCU-diploma/openNMT/opennmt/all/test_tgt (1).news.txt\" \\\n",
    "-output \"/content/gdrive/My Drive/UCU-diploma/openNMT/opennmt/all/pred.news.txt\" \\\n",
    "-beam_size 10 \\\n",
    "-dynamic_dict \\\n",
    "-share_vocab \\\n",
    "-batch_size 2 \\\n",
    "-batch_type sents \\\n",
    "-gpu 0 \\\n",
    "-seed 42 \\\n",
    "--report_rouge\n",
    "\n"
   ]
  },
  {
   "cell_type": "code",
   "execution_count": null,
   "metadata": {},
   "outputs": [],
   "source": [
    "files2rouge ./data/opennmt/all/pred_news.broad.txt ./data/opennmt/all/test_tgt.news.txt"
   ]
  }
 ],
 "metadata": {
  "kernelspec": {
   "display_name": "ucu-2019-ml-final-project",
   "language": "python",
   "name": "myenv"
  },
  "language_info": {
   "codemirror_mode": {
    "name": "ipython",
    "version": 3
   },
   "file_extension": ".py",
   "mimetype": "text/x-python",
   "name": "python",
   "nbconvert_exporter": "python",
   "pygments_lexer": "ipython3",
   "version": "3.6.7"
  }
 },
 "nbformat": 4,
 "nbformat_minor": 2
}
