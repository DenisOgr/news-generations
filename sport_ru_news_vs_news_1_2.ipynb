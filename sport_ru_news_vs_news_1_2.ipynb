{
 "cells": [
  {
   "cell_type": "raw",
   "metadata": {},
   "source": [
    "In this experiment we will generate news vs news.\n",
    "There are two options:\n",
    "    - split all news for two groups (one part source one part target) (sport_ru_news_vs_news_1)\n",
    "    - same news source and target (sport_ru_news_vs_news_2)"
   ]
  },
  {
   "cell_type": "code",
   "execution_count": 116,
   "metadata": {
    "collapsed": true
   },
   "outputs": [],
   "source": [
    "import pandas as pd\n",
    "from sklearn.model_selection import train_test_split\n",
    "import re\n",
    "from tqdm import tqdm_notebook\n",
    "import os\n",
    "import numpy as np\n",
    "from datetime import datetime\n",
    "import matplotlib.pyplot as plt"
   ]
  },
  {
   "cell_type": "code",
   "execution_count": 12,
   "metadata": {
    "collapsed": true
   },
   "outputs": [],
   "source": [
    "def create_dir(directory):\n",
    "    if not os.path.exists(directory):\n",
    "        os.makedirs(directory)\n",
    "\n",
    "create_dir('./data/opennmt/sport_ru_news_vs_news_1')\n",
    "create_dir('./data/opennmt/sport_ru_news_vs_news_2')"
   ]
  },
  {
   "cell_type": "code",
   "execution_count": 107,
   "metadata": {
    "collapsed": true
   },
   "outputs": [],
   "source": [
    "dtypes_br = {\n",
    "    'match_id': 'int64',\n",
    "    'team1': 'object',\n",
    "    'team2': 'object',\n",
    "    'name': 'object',\n",
    "    'match_time': 'int64',\n",
    "    'type': 'category',\n",
    "    'minute': 'int64',\n",
    "    'content': 'object',\n",
    "    'message_time':'int64'\n",
    "}\n",
    "\n",
    "dtypes_ns = {\n",
    "    'id': 'int64',\n",
    "    'name': 'object',\n",
    "    'ctime': 'int64',\n",
    "    'body': 'object',\n",
    "    'match_id': 'int64',\n",
    "}\n",
    "\n",
    "news = pd.read_csv('data/ods_match_news.csv',\n",
    "                 header=0, \n",
    "                 usecols=dtypes_ns.keys(), \n",
    "                 skipinitialspace=True,\n",
    "                 skip_blank_lines=True,\n",
    "                 encoding='utf-8')\n",
    "def clean_news_text(text):\n",
    "    return  re.sub(\"(&#(?:\\d)*;)\", \"\", re.sub(\"<.*?>\", \"\", text)).replace(\"\\n\",\"\").replace(\"\\r\",\"\").replace(\"\\x96\",\"\")\n",
    "\n",
    "news = news.dropna()\n",
    "news.body = news.body.apply(clean_news_text)\n",
    "news.body.replace(' ', np.nan, inplace=True)\n",
    "news = news.dropna()\n",
    "news = news[news.match_id != 787015]"
   ]
  },
  {
   "cell_type": "code",
   "execution_count": 108,
   "metadata": {},
   "outputs": [
    {
     "data": {
      "text/plain": [
       "(92985, 1)"
      ]
     },
     "execution_count": 108,
     "metadata": {},
     "output_type": "execute_result"
    }
   ],
   "source": [
    "news.shape\n",
    "news.drop(news.columns.difference(['body']), 1, inplace=True)\n",
    "news.shape"
   ]
  },
  {
   "cell_type": "code",
   "execution_count": 109,
   "metadata": {},
   "outputs": [
    {
     "data": {
      "text/html": [
       "<div>\n",
       "<style scoped>\n",
       "    .dataframe tbody tr th:only-of-type {\n",
       "        vertical-align: middle;\n",
       "    }\n",
       "\n",
       "    .dataframe tbody tr th {\n",
       "        vertical-align: top;\n",
       "    }\n",
       "\n",
       "    .dataframe thead th {\n",
       "        text-align: right;\n",
       "    }\n",
       "</style>\n",
       "<table border=\"1\" class=\"dataframe\">\n",
       "  <thead>\n",
       "    <tr style=\"text-align: right;\">\n",
       "      <th></th>\n",
       "      <th>body</th>\n",
       "    </tr>\n",
       "  </thead>\n",
       "  <tbody>\n",
       "    <tr>\n",
       "      <th>0</th>\n",
       "      <td>Главный тренер ЦСКА Зико поделился мыслями о п...</td>\n",
       "    </tr>\n",
       "    <tr>\n",
       "      <th>1</th>\n",
       "      <td>Сегодня на Sports.ru дебютируют текстовые онла...</td>\n",
       "    </tr>\n",
       "    <tr>\n",
       "      <th>2</th>\n",
       "      <td>Сегодня на Sports.ru дебютируют текстовые онла...</td>\n",
       "    </tr>\n",
       "    <tr>\n",
       "      <th>3</th>\n",
       "      <td>Полузащитник Астон Виллы Стилян Петров поделил...</td>\n",
       "    </tr>\n",
       "    <tr>\n",
       "      <th>4</th>\n",
       "      <td>Главный тренер сборной России и Челси Гус Хидд...</td>\n",
       "    </tr>\n",
       "  </tbody>\n",
       "</table>\n",
       "</div>"
      ],
      "text/plain": [
       "                                                body\n",
       "0  Главный тренер ЦСКА Зико поделился мыслями о п...\n",
       "1  Сегодня на Sports.ru дебютируют текстовые онла...\n",
       "2  Сегодня на Sports.ru дебютируют текстовые онла...\n",
       "3  Полузащитник Астон Виллы Стилян Петров поделил...\n",
       "4  Главный тренер сборной России и Челси Гус Хидд..."
      ]
     },
     "execution_count": 109,
     "metadata": {},
     "output_type": "execute_result"
    }
   ],
   "source": [
    "news.head()"
   ]
  },
  {
   "cell_type": "code",
   "execution_count": 113,
   "metadata": {
    "collapsed": true
   },
   "outputs": [],
   "source": [
    "lens = []\n",
    "for i,row in news.iterrows():\n",
    "    lens.append(len(row.body))"
   ]
  },
  {
   "cell_type": "code",
   "execution_count": 119,
   "metadata": {},
   "outputs": [
    {
     "data": {
      "text/plain": [
       "(array([5.7526e+04, 2.7986e+04, 5.3440e+03, 7.8200e+02, 1.7000e+02,\n",
       "        2.8900e+02, 1.3400e+02, 4.2000e+01, 4.8000e+01, 1.4400e+02,\n",
       "        1.1600e+02, 4.7000e+01, 1.1000e+01, 7.2000e+01, 6.6000e+01,\n",
       "        1.3000e+01, 1.0000e+00, 4.3000e+01, 6.5000e+01, 9.0000e+00,\n",
       "        2.0000e+00, 1.9000e+01, 4.1000e+01, 1.0000e+00, 0.0000e+00,\n",
       "        5.0000e+00, 7.0000e+00, 0.0000e+00, 1.0000e+00, 1.0000e+00]),\n",
       " array([    0. ,   746.7,  1493.4,  2240.1,  2986.8,  3733.5,  4480.2,\n",
       "         5226.9,  5973.6,  6720.3,  7467. ,  8213.7,  8960.4,  9707.1,\n",
       "        10453.8, 11200.5, 11947.2, 12693.9, 13440.6, 14187.3, 14934. ,\n",
       "        15680.7, 16427.4, 17174.1, 17920.8, 18667.5, 19414.2, 20160.9,\n",
       "        20907.6, 21654.3, 22401. ]),\n",
       " <a list of 30 Patch objects>)"
      ]
     },
     "execution_count": 119,
     "metadata": {},
     "output_type": "execute_result"
    },
    {
     "data": {
      "image/png": "[encoded data removed]",
      "text/plain": [
       "<Figure size 432x288 with 1 Axes>"
      ]
     },
     "metadata": {
      "needs_background": "light"
     },
     "output_type": "display_data"
    }
   ],
   "source": [
    "plt.hist(lens, bins=30)"
   ]
  },
  {
   "cell_type": "markdown",
   "metadata": {},
   "source": [
    "### News vs news (split all news for 2 groups)"
   ]
  },
  {
   "cell_type": "code",
   "execution_count": 100,
   "metadata": {
    "collapsed": true,
    "scrolled": true
   },
   "outputs": [],
   "source": [
    "news_1, news_2 = train_test_split(news, test_size=0.5, random_state=42)\n",
    "news_final = pd.concat([news_1.reset_index(), news_2.reset_index()], axis=1,ignore_index=True)\n",
    "news_final.drop(news_final.columns.difference([1,3]), 1, inplace=True)\n",
    "news_final.columns = ['source', 'target']\n",
    "news_final.dropna(inplace=True)"
   ]
  },
  {
   "cell_type": "code",
   "execution_count": 101,
   "metadata": {},
   "outputs": [
    {
     "data": {
      "text/html": [
       "<div>\n",
       "<style scoped>\n",
       "    .dataframe tbody tr th:only-of-type {\n",
       "        vertical-align: middle;\n",
       "    }\n",
       "\n",
       "    .dataframe tbody tr th {\n",
       "        vertical-align: top;\n",
       "    }\n",
       "\n",
       "    .dataframe thead th {\n",
       "        text-align: right;\n",
       "    }\n",
       "</style>\n",
       "<table border=\"1\" class=\"dataframe\">\n",
       "  <thead>\n",
       "    <tr style=\"text-align: right;\">\n",
       "      <th></th>\n",
       "      <th>source</th>\n",
       "      <th>target</th>\n",
       "    </tr>\n",
       "  </thead>\n",
       "  <tbody>\n",
       "    <tr>\n",
       "      <th>0</th>\n",
       "      <td>Главный тренер СКА Вацлав Сикора прокомментиро...</td>\n",
       "      <td>Защитник «Барселоны» Жерар Пике высказался пос...</td>\n",
       "    </tr>\n",
       "    <tr>\n",
       "      <th>1</th>\n",
       "      <td>Главный тренер «Вашингтона» Брюс Будро после м...</td>\n",
       "      <td>Вратарь «Локомотива» Гильерме поделился ожидан...</td>\n",
       "    </tr>\n",
       "    <tr>\n",
       "      <th>2</th>\n",
       "      <td>Нападающий «Рубина» Владимир Дядюн высказал со...</td>\n",
       "      <td>Главный тренер сборной Испании Висенте Дель Бо...</td>\n",
       "    </tr>\n",
       "    <tr>\n",
       "      <th>3</th>\n",
       "      <td>Нападающий ЦСКА Симон Ялмарссон прокомментиров...</td>\n",
       "      <td>Форвард СКА Евгений Артюхин после победы над Ц...</td>\n",
       "    </tr>\n",
       "    <tr>\n",
       "      <th>4</th>\n",
       "      <td>Нападающий «Филадельфии» Майк Ричардс после че...</td>\n",
       "      <td>Почетный президент РФС Вячеслав Колосков проко...</td>\n",
       "    </tr>\n",
       "  </tbody>\n",
       "</table>\n",
       "</div>"
      ],
      "text/plain": [
       "                                              source  \\\n",
       "0  Главный тренер СКА Вацлав Сикора прокомментиро...   \n",
       "1  Главный тренер «Вашингтона» Брюс Будро после м...   \n",
       "2  Нападающий «Рубина» Владимир Дядюн высказал со...   \n",
       "3  Нападающий ЦСКА Симон Ялмарссон прокомментиров...   \n",
       "4  Нападающий «Филадельфии» Майк Ричардс после че...   \n",
       "\n",
       "                                              target  \n",
       "0  Защитник «Барселоны» Жерар Пике высказался пос...  \n",
       "1  Вратарь «Локомотива» Гильерме поделился ожидан...  \n",
       "2  Главный тренер сборной Испании Висенте Дель Бо...  \n",
       "3  Форвард СКА Евгений Артюхин после победы над Ц...  \n",
       "4  Почетный президент РФС Вячеслав Колосков проко...  "
      ]
     },
     "execution_count": 101,
     "metadata": {},
     "output_type": "execute_result"
    }
   ],
   "source": [
    "news_final.head()"
   ]
  },
  {
   "cell_type": "code",
   "execution_count": 102,
   "metadata": {},
   "outputs": [
    {
     "data": {
      "text/plain": [
       "(46492, 2)"
      ]
     },
     "execution_count": 102,
     "metadata": {},
     "output_type": "execute_result"
    }
   ],
   "source": [
    "news_final.shape"
   ]
  },
  {
   "cell_type": "code",
   "execution_count": 104,
   "metadata": {},
   "outputs": [
    {
     "name": "stdout",
     "output_type": "stream",
     "text": [
      "All:  (46492, 2)\n",
      "Len X_train:  37239\n",
      "Len X_val:  4603\n",
      "Len X_test:  4650\n"
     ]
    }
   ],
   "source": [
    "X_train_1, X_test_1 = train_test_split(news_final, test_size=0.1, random_state=42)\n",
    "X_train_1, X_val_1 = train_test_split(X_train_1, test_size=0.11, random_state=42)\n",
    "print(\"All: \", news_final.shape)\n",
    "print(\"Len X_train: \", len(X_train_1))\n",
    "print(\"Len X_val: \", len(X_val_1))\n",
    "print(\"Len X_test: \", len(X_test_1))"
   ]
  },
  {
   "cell_type": "code",
   "execution_count": 151,
   "metadata": {
    "collapsed": true
   },
   "outputs": [],
   "source": [
    "def create_dataset(X, type_ds, to_dir):\n",
    "    assert type_ds in ['test','train', 'valid']\n",
    "    create_dir(to_dir)\n",
    "    count_lines = 0\n",
    "    src_file = \"%s/%s_src.txt\"%(to_dir,type_ds)\n",
    "    tgt_file = \"%s/%s_tgt.txt\"%(to_dir,type_ds)\n",
    "    with(open(src_file, 'w')) as f_source:\n",
    "        with(open(tgt_file, 'w')) as f_target:\n",
    "            for i,row in tqdm_notebook(X.iterrows()):\n",
    "                f_source.write(row['source'] + \"\\n\")\n",
    "                f_target.write(row['target'] + \"\\n\")\n",
    "                count_lines +=1\n",
    "    print(\"Source file: \", src_file)\n",
    "    print(\"Target file: \", tgt_file)\n",
    "    print(\"Count lines: \",count_lines)"
   ]
  },
  {
   "cell_type": "code",
   "execution_count": 152,
   "metadata": {},
   "outputs": [
    {
     "name": "stdout",
     "output_type": "stream",
     "text": [
      "Build train dataset\n"
     ]
    },
    {
     "data": {
      "application/vnd.jupyter.widget-view+json": {
       "model_id": "86319e8e5f1d4ec8b17ef22d881df66e",
       "version_major": 2,
       "version_minor": 0
      },
      "text/plain": [
       "HBox(children=(IntProgress(value=1, bar_style='info', max=1), HTML(value='')))"
      ]
     },
     "metadata": {},
     "output_type": "display_data"
    },
    {
     "name": "stdout",
     "output_type": "stream",
     "text": [
      "\n",
      "Source file:  ./data/opennmt/sport_ru_news_vs_news_1/train_src.txt\n",
      "Target file:  ./data/opennmt/sport_ru_news_vs_news_1/train_tgt.txt\n",
      "Count lines:  37239\n",
      "Build test dataset\n"
     ]
    },
    {
     "data": {
      "application/vnd.jupyter.widget-view+json": {
       "model_id": "a5c2cafebe864020a2d2c3909b4a4158",
       "version_major": 2,
       "version_minor": 0
      },
      "text/plain": [
       "HBox(children=(IntProgress(value=1, bar_style='info', max=1), HTML(value='')))"
      ]
     },
     "metadata": {},
     "output_type": "display_data"
    },
    {
     "name": "stdout",
     "output_type": "stream",
     "text": [
      "\n",
      "Source file:  ./data/opennmt/sport_ru_news_vs_news_1/test_src.txt\n",
      "Target file:  ./data/opennmt/sport_ru_news_vs_news_1/test_tgt.txt\n",
      "Count lines:  4650\n",
      "Build valid dataset\n"
     ]
    },
    {
     "data": {
      "application/vnd.jupyter.widget-view+json": {
       "model_id": "27d089fbe55f4ddfb900c001f7ec6abb",
       "version_major": 2,
       "version_minor": 0
      },
      "text/plain": [
       "HBox(children=(IntProgress(value=1, bar_style='info', max=1), HTML(value='')))"
      ]
     },
     "metadata": {},
     "output_type": "display_data"
    },
    {
     "name": "stdout",
     "output_type": "stream",
     "text": [
      "\n",
      "Source file:  ./data/opennmt/sport_ru_news_vs_news_1/valid_src.txt\n",
      "Target file:  ./data/opennmt/sport_ru_news_vs_news_1/valid_tgt.txt\n",
      "Count lines:  4603\n"
     ]
    }
   ],
   "source": [
    "print(\"Build train dataset\")\n",
    "create_dataset(X_train_1, 'train', \"./data/opennmt/sport_ru_news_vs_news_1\")\n",
    "print(\"Build test dataset\")\n",
    "create_dataset(X_test_1, 'test', \"./data/opennmt/sport_ru_news_vs_news_1\")\n",
    "print(\"Build valid dataset\")\n",
    "create_dataset(X_val_1, 'valid', \"./data/opennmt/sport_ru_news_vs_news_1\")"
   ]
  },
  {
   "cell_type": "code",
   "execution_count": 153,
   "metadata": {},
   "outputs": [
    {
     "name": "stdout",
     "output_type": "stream",
     "text": [
      "   37239 ./data/opennmt/sport_ru_news_vs_news_1/train_src.txt\n",
      "   37239 ./data/opennmt/sport_ru_news_vs_news_1/train_tgt.txt\n",
      "    4650 ./data/opennmt/sport_ru_news_vs_news_1/test_src.txt\n",
      "    4650 ./data/opennmt/sport_ru_news_vs_news_1/test_tgt.txt\n",
      "    4603 ./data/opennmt/sport_ru_news_vs_news_1/valid_src.txt\n",
      "    4603 ./data/opennmt/sport_ru_news_vs_news_1/valid_tgt.txt\n"
     ]
    }
   ],
   "source": [
    "!wc -l ./data/opennmt/sport_ru_news_vs_news_1/train_src.txt\n",
    "!wc -l ./data/opennmt/sport_ru_news_vs_news_1/train_tgt.txt\n",
    "!wc -l ./data/opennmt/sport_ru_news_vs_news_1/test_src.txt\n",
    "!wc -l ./data/opennmt/sport_ru_news_vs_news_1/test_tgt.txt\n",
    "!wc -l ./data/opennmt/sport_ru_news_vs_news_1/valid_src.txt\n",
    "!wc -l ./data/opennmt/sport_ru_news_vs_news_1/valid_tgt.txt"
   ]
  },
  {
   "cell_type": "code",
   "execution_count": null,
   "metadata": {
    "collapsed": true
   },
   "outputs": [],
   "source": [
    "! python ./OpenNMT/preprocess.py \\\n",
    "-train_src /data/denisogr/opennmt/sport_ru_news_vs_news_1/source/train_src.txt \\\n",
    "-train_tgt /data/denisogr/opennmt/sport_ru_news_vs_news_1/source/train_tgt.txt \\\n",
    "-valid_src /data/denisogr/opennmt/sport_ru_news_vs_news_1/source/valid_src.txt \\\n",
    "-valid_tgt /data/denisogr/opennmt/sport_ru_news_vs_news_1/source/valid_tgt.txt \\\n",
    "-save_data /data/denisogr/opennmt/sport_ru_news_vs_news_1/data/data \\\n",
    "-share_vocab \\\n",
    "-dynamic_dict \\\n",
    "-src_vocab_size 50000 \\\n",
    "-report_every 1000 \\\n",
    "-shard_size 10000 \\\n",
    "-src_seq_length 5000 \\\n",
    "-src_seq_length_trunc 2000 \\\n",
    "-tgt_seq_length 5000 \\\n",
    "-tgt_seq_length_trunc 2000"
   ]
  },
  {
   "cell_type": "code",
   "execution_count": null,
   "metadata": {
    "collapsed": true
   },
   "outputs": [],
   "source": [
    "! python ./OpenNMT/train.py \\\n",
    "-data \"/data/denisogr/opennmt/sport_ru_news_vs_news_1/data/data\" \\\n",
    "-save_model \"/data/denisogr/opennmt/sport_ru_news_vs_news_1/model/model\" \\\n",
    "-share_embeddings \\\n",
    "-batch_type tokens \\\n",
    "-batch_size 32 \\\n",
    "-valid_batch_size 2 \\\n",
    "-copy_attn \\\n",
    "-global_attention mlp \\\n",
    "-word_vec_size 128 \\\n",
    "-rnn_size 512 \\\n",
    "-layers 1 \\\n",
    "-encoder_type brnn \\\n",
    "-max_grad_norm 2 \\\n",
    "-dropout 0. \\\n",
    "-optim adagrad \\\n",
    "-adagrad_accumulator_init 0.1 \\\n",
    "-reuse_copy_attn \\\n",
    "-copy_loss_by_seqlength \\\n",
    "-bridge \\\n",
    "-seed 42 \\\n",
    "-gpu_ranks 0 \\\n",
    "-save_checkpoint_steps 10000 \\\n",
    "-train_steps 100000 \\\n",
    "-learning_rate 0.001 \\\n",
    "-report_every 1000 \\\n",
    "-valid_steps 20000 \\\n",
    "-layers 4 \\\n",
    "-learning_rate 0.01 \\\n",
    "-encoder_type transformer \\\n",
    "-decoder_type transformer \\\n",
    "-rnn_size 128 \\\n",
    "-world_size 1"
   ]
  },
  {
   "cell_type": "code",
   "execution_count": null,
   "metadata": {
    "collapsed": true
   },
   "outputs": [],
   "source": [
    "! python ./OpenNMT/translate.py \\\n",
    "-model \"/data/denisogr/opennmt/sport_ru_news_vs_news_1/model/model_step_100000.pt\" \\\n",
    "-src \"/data/denisogr/opennmt/sport_ru_news_vs_news_1/source/test_src.txt\" \\\n",
    "-tgt \"/data/denisogr/opennmt/sport_ru_news_vs_news_1/source/test_tgt.txt\" \\\n",
    "-output \"/data/denisogr/opennmt/sport_ru_news_vs_news_1/source/test_result.txt\" \\\n",
    "-beam_size 10 \\\n",
    "-dynamic_dict \\\n",
    "-share_vocab \\\n",
    "-batch_size 2 \\\n",
    "-batch_type sents \\\n",
    "-gpu 0 \\\n",
    "-seed 42"
   ]
  },
  {
   "cell_type": "markdown",
   "metadata": {},
   "source": [
    "### Results"
   ]
  },
  {
   "cell_type": "raw",
   "metadata": {},
   "source": [
    "Главный тренер сборной России Александр <unk> поделился впечатлениями от матча 1/8 финала Лиги чемпионов против «Манчестер Юнайтед» в матче с <unk> <unk> <unk> <unk> <unk> <unk> <unk> <unk> <unk> <unk> <unk> <unk> <unk> <unk> <unk> <unk> <unk> <unk> <unk> <unk> <unk> <unk> <unk> <unk> <unk> <unk> <unk> <unk> <unk> <unk> <unk> <unk> <unk> <unk> <unk> <unk> <unk> <unk> <unk> <unk> <unk> <unk> <unk> <unk> <unk> <unk> <unk> <unk> <unk> <unk> <unk> <unk> <unk> <unk> <unk> <unk> <unk> <unk> <unk> <unk> <unk> <unk> <unk> <unk> <unk> <unk> <unk> <unk> <unk> <unk> <unk> <unk> <unk> <unk> <unk> <unk> <unk> <unk> <unk> <unk>\n",
    "Главный тренер сборной России Александр <unk> поделился впечатлениями от матча 1/8 финала Лиги чемпионов против «Манчестер Юнайтед» в матче с <unk> <unk> <unk> <unk> <unk> <unk> <unk> <unk> <unk> <unk> <unk> <unk> <unk> <unk> <unk> <unk> <unk> <unk> <unk> <unk> <unk> <unk> <unk> <unk> <unk> <unk> <unk> <unk> <unk> <unk> <unk> <unk> <unk> <unk> <unk> <unk> <unk> <unk> <unk> <unk> <unk> <unk> <unk> <unk> <unk> <unk> <unk> <unk> <unk> <unk> <unk> <unk> <unk> <unk> <unk> <unk> <unk> <unk> <unk> <unk> <unk> <unk> <unk> <unk> <unk> <unk> <unk> <unk> <unk> <unk> <unk> <unk> <unk> <unk> <unk> <unk> <unk> <unk> <unk> <unk>\n",
    "Главный тренер сборной России Александр <unk> поделился впечатлениями от матча 1/8 финала Лиги чемпионов против «Манчестер Юнайтед» в матче с <unk> <unk> <unk> <unk> <unk> <unk> <unk> <unk> <unk> <unk> <unk> <unk> <unk> <unk> <unk> <unk> <unk> <unk> <unk> <unk> <unk> <unk> <unk> <unk> <unk> <unk> <unk> <unk> <unk> <unk> <unk> <unk> <unk> <unk> <unk> <unk> <unk> <unk> <unk> <unk> <unk> <unk> <unk> <unk> <unk> <unk> <unk> <unk> <unk> <unk> <unk> <unk> <unk> <unk> <unk> <unk> <unk> <unk> <unk> <unk> <unk> <unk> <unk> <unk> <unk> <unk> <unk> <unk> <unk> <unk> <unk> <unk> <unk> <unk> <unk> <unk> <unk> <unk> <unk> <unk>\n",
    "Главный тренер сборной России Александр <unk> поделился впечатлениями от матча 1/8 финала Лиги чемпионов против «Манчестер Юнайтед» в матче с <unk> <unk> <unk> <unk> <unk> <unk> <unk> <unk> <unk> <unk> <unk> <unk> <unk> <unk> <unk> <unk> <unk> <unk> <unk> <unk> <unk> <unk> <unk> <unk> <unk> <unk> <unk> <unk> <unk> <unk> <unk> <unk> <unk> <unk> <unk> <unk> <unk> <unk> <unk> <unk> <unk> <unk> <unk> <unk> <unk> <unk> <unk> <unk> <unk> <unk> <unk> <unk> <unk> <unk> <unk> <unk> <unk> <unk> <unk> <unk> <unk> <unk> <unk> <unk> <unk> <unk> <unk> <unk> <unk> <unk> <unk> <unk> <unk> <unk> <unk> <unk> <unk> <unk> <unk> <unk>\n",
    "Главный тренер сборной России Александр <unk> поделился впечатлениями от матча 1/8 финала Лиги чемпионов против «Манчестер Юнайтед» в матче с <unk> <unk> <unk> <unk> <unk> <unk> <unk> <unk> <unk> <unk> <unk> <unk> <unk> <unk> <unk> <unk> <unk> <unk> <unk> <unk> <unk> <unk> <unk> <unk> <unk> <unk> <unk> <unk> <unk> <unk> <unk> <unk> <unk> <unk> <unk> <unk> <unk> <unk> <unk> <unk> <unk> <unk> <unk> <unk> <unk> <unk> <unk> <unk> <unk> <unk> <unk> <unk> <unk> <unk> <unk> <unk> <unk> <unk> <unk> <unk> <unk> <unk> <unk> <unk> <unk> <unk> <unk> <unk> <unk> <unk> <unk> <unk> <unk> <unk> <unk> <unk> <unk> <unk> <unk> <unk>\n",
    "Главный тренер сборной России Александр <unk> поделился впечатлениями от матча 1/8 финала Лиги чемпионов против «Манчестер Юнайтед» в матче с <unk> <unk> <unk> <unk> <unk> <unk> <unk> <unk> <unk> <unk> <unk> <unk> <unk> <unk> <unk> <unk> <unk> <unk> <unk> <unk> <unk> <unk> <unk> <unk> <unk> <unk> <unk> <unk> <unk> <unk> <unk> <unk> <unk> <unk> <unk> <unk> <unk> <unk> <unk> <unk> <unk> <unk> <unk> <unk> <unk> <unk> <unk> <unk> <unk> <unk> <unk> <unk> <unk> <unk> <unk> <unk> <unk> <unk> <unk> <unk> <unk> <unk> <unk> <unk> <unk> <unk> <unk> <unk> <unk> <unk> <unk> <unk> <unk> <unk> <unk> <unk> <unk> <unk> <unk> <unk>"
   ]
  },
  {
   "cell_type": "markdown",
   "metadata": {},
   "source": [
    "### News vs news (same news as source and target)"
   ]
  },
  {
   "cell_type": "code",
   "execution_count": 154,
   "metadata": {},
   "outputs": [
    {
     "name": "stdout",
     "output_type": "stream",
     "text": [
      "All:  (92985, 1)\n",
      "Len X_train:  74480\n",
      "Len X_val:  9206\n",
      "Len X_test:  9299\n"
     ]
    }
   ],
   "source": [
    "X_train_2, X_test_2 = train_test_split(news, test_size=0.1, random_state=42)\n",
    "X_train_2, X_val_2 = train_test_split(X_train_2, test_size=0.11, random_state=42)\n",
    "print(\"All: \", news.shape)\n",
    "print(\"Len X_train: \", len(X_train_2))\n",
    "print(\"Len X_val: \", len(X_val_2))\n",
    "print(\"Len X_test: \", len(X_test_2))"
   ]
  },
  {
   "cell_type": "code",
   "execution_count": 155,
   "metadata": {},
   "outputs": [
    {
     "data": {
      "text/html": [
       "<div>\n",
       "<style scoped>\n",
       "    .dataframe tbody tr th:only-of-type {\n",
       "        vertical-align: middle;\n",
       "    }\n",
       "\n",
       "    .dataframe tbody tr th {\n",
       "        vertical-align: top;\n",
       "    }\n",
       "\n",
       "    .dataframe thead th {\n",
       "        text-align: right;\n",
       "    }\n",
       "</style>\n",
       "<table border=\"1\" class=\"dataframe\">\n",
       "  <thead>\n",
       "    <tr style=\"text-align: right;\">\n",
       "      <th></th>\n",
       "      <th>body</th>\n",
       "    </tr>\n",
       "  </thead>\n",
       "  <tbody>\n",
       "    <tr>\n",
       "      <th>26824</th>\n",
       "      <td>Бывший полузащитник Зенита Вячеслав Булавин по...</td>\n",
       "    </tr>\n",
       "    <tr>\n",
       "      <th>50339</th>\n",
       "      <td>Бывший нападающий «Спартака» Валерий Рейнгольд...</td>\n",
       "    </tr>\n",
       "    <tr>\n",
       "      <th>38724</th>\n",
       "      <td>Во 2-м туре групповой стадии Лиги Европы «Руби...</td>\n",
       "    </tr>\n",
       "    <tr>\n",
       "      <th>45352</th>\n",
       "      <td>Главный тренер «Леванте» Хуан Игнасио Мартинес...</td>\n",
       "    </tr>\n",
       "    <tr>\n",
       "      <th>63631</th>\n",
       "      <td>Нападающий сборной Белоруссии Андрей Стась пос...</td>\n",
       "    </tr>\n",
       "  </tbody>\n",
       "</table>\n",
       "</div>"
      ],
      "text/plain": [
       "                                                    body\n",
       "26824  Бывший полузащитник Зенита Вячеслав Булавин по...\n",
       "50339  Бывший нападающий «Спартака» Валерий Рейнгольд...\n",
       "38724  Во 2-м туре групповой стадии Лиги Европы «Руби...\n",
       "45352  Главный тренер «Леванте» Хуан Игнасио Мартинес...\n",
       "63631  Нападающий сборной Белоруссии Андрей Стась пос..."
      ]
     },
     "execution_count": 155,
     "metadata": {},
     "output_type": "execute_result"
    }
   ],
   "source": [
    "X_train_2.head()"
   ]
  },
  {
   "cell_type": "code",
   "execution_count": 156,
   "metadata": {
    "collapsed": true
   },
   "outputs": [],
   "source": [
    "def create_dataset(X, type_ds, to_dir):\n",
    "    assert type_ds in ['test','train', 'valid']\n",
    "    create_dir(to_dir)\n",
    "    count_lines = 0\n",
    "    src_file = \"%s/%s_src.txt\"%(to_dir,type_ds)\n",
    "    tgt_file = \"%s/%s_tgt.txt\"%(to_dir,type_ds)\n",
    "    with(open(src_file, 'w')) as f_source:\n",
    "        with(open(tgt_file, 'w')) as f_target:\n",
    "            for i,row in tqdm_notebook(X.iterrows()):\n",
    "                f_source.write(row['body'] + \"\\n\")\n",
    "                f_target.write(row['body'] + \"\\n\")\n",
    "                count_lines +=1\n",
    "    print(\"Source file: \", src_file)\n",
    "    print(\"Target file: \", tgt_file)\n",
    "    print(\"Count lines: \",count_lines)"
   ]
  },
  {
   "cell_type": "code",
   "execution_count": 157,
   "metadata": {},
   "outputs": [
    {
     "name": "stdout",
     "output_type": "stream",
     "text": [
      "Build train dataset\n"
     ]
    },
    {
     "data": {
      "application/vnd.jupyter.widget-view+json": {
       "model_id": "8ffe54e9704f4b60b4e108bf072f1787",
       "version_major": 2,
       "version_minor": 0
      },
      "text/plain": [
       "HBox(children=(IntProgress(value=1, bar_style='info', max=1), HTML(value='')))"
      ]
     },
     "metadata": {},
     "output_type": "display_data"
    },
    {
     "name": "stdout",
     "output_type": "stream",
     "text": [
      "\n",
      "Source file:  ./data/opennmt/sport_ru_news_vs_news_2/train_src.txt\n",
      "Target file:  ./data/opennmt/sport_ru_news_vs_news_2/train_tgt.txt\n",
      "Count lines:  74480\n",
      "Build test dataset\n"
     ]
    },
    {
     "data": {
      "application/vnd.jupyter.widget-view+json": {
       "model_id": "637914dae9d64f60943c8c4e68e575ba",
       "version_major": 2,
       "version_minor": 0
      },
      "text/plain": [
       "HBox(children=(IntProgress(value=1, bar_style='info', max=1), HTML(value='')))"
      ]
     },
     "metadata": {},
     "output_type": "display_data"
    },
    {
     "name": "stdout",
     "output_type": "stream",
     "text": [
      "\n",
      "Source file:  ./data/opennmt/sport_ru_news_vs_news_2/test_src.txt\n",
      "Target file:  ./data/opennmt/sport_ru_news_vs_news_2/test_tgt.txt\n",
      "Count lines:  9299\n",
      "Build valid dataset\n"
     ]
    },
    {
     "data": {
      "application/vnd.jupyter.widget-view+json": {
       "model_id": "9398adfd355b45b58cf7d5b1d7c6254e",
       "version_major": 2,
       "version_minor": 0
      },
      "text/plain": [
       "HBox(children=(IntProgress(value=1, bar_style='info', max=1), HTML(value='')))"
      ]
     },
     "metadata": {},
     "output_type": "display_data"
    },
    {
     "name": "stdout",
     "output_type": "stream",
     "text": [
      "\n",
      "Source file:  ./data/opennmt/sport_ru_news_vs_news_2/valid_src.txt\n",
      "Target file:  ./data/opennmt/sport_ru_news_vs_news_2/valid_tgt.txt\n",
      "Count lines:  9206\n"
     ]
    }
   ],
   "source": [
    "print(\"Build train dataset\")\n",
    "create_dataset(X_train_2, 'train', \"./data/opennmt/sport_ru_news_vs_news_2\")\n",
    "print(\"Build test dataset\")\n",
    "create_dataset(X_test_2, 'test', \"./data/opennmt/sport_ru_news_vs_news_2\")\n",
    "print(\"Build valid dataset\")\n",
    "create_dataset(X_val_2, 'valid', \"./data/opennmt/sport_ru_news_vs_news_2\")"
   ]
  },
  {
   "cell_type": "code",
   "execution_count": 158,
   "metadata": {},
   "outputs": [
    {
     "name": "stdout",
     "output_type": "stream",
     "text": [
      "   74480 ./data/opennmt/sport_ru_news_vs_news_2/train_src.txt\n",
      "   74480 ./data/opennmt/sport_ru_news_vs_news_2/train_tgt.txt\n",
      "    9299 ./data/opennmt/sport_ru_news_vs_news_2/test_src.txt\n",
      "    9299 ./data/opennmt/sport_ru_news_vs_news_2/test_tgt.txt\n",
      "    9206 ./data/opennmt/sport_ru_news_vs_news_2/valid_src.txt\n",
      "    9206 ./data/opennmt/sport_ru_news_vs_news_2/valid_tgt.txt\n"
     ]
    }
   ],
   "source": [
    "!wc -l ./data/opennmt/sport_ru_news_vs_news_2/train_src.txt\n",
    "!wc -l ./data/opennmt/sport_ru_news_vs_news_2/train_tgt.txt\n",
    "!wc -l ./data/opennmt/sport_ru_news_vs_news_2/test_src.txt\n",
    "!wc -l ./data/opennmt/sport_ru_news_vs_news_2/test_tgt.txt\n",
    "!wc -l ./data/opennmt/sport_ru_news_vs_news_2/valid_src.txt\n",
    "!wc -l ./data/opennmt/sport_ru_news_vs_news_2/valid_tgt.txt"
   ]
  },
  {
   "cell_type": "code",
   "execution_count": 161,
   "metadata": {},
   "outputs": [
    {
     "name": "stdout",
     "output_type": "stream",
     "text": [
      "Бывший полузащитник Зенита Вячеслав Булавин поделился ожиданиями от матча групповой стадии Лиги чемпионов ЦСКА  Лилль.У ЦСКА трудное положение: обязательно надо выигрывать у Лилля. Ведь завершающий матч предстоит против Интера, который умеет играть в Лиге чемпионов.Не знаю, как скажется на игре армейцев отсутствие Думбия, поскольку в последнее время забивает именно он. В то же время допускаю вариант, что Интер может досрочно решить свою задачу уже в этом туре,  приводит слова Булавин Спорт Уик-Энд.Напомним, матч 5-го тура группового этапа Лиги чемпионов ЦСКА  Лилль состоится сегодня в 21.00 в Лужниках.\r\n"
     ]
    }
   ],
   "source": [
    "! head -n 1 \"./data/opennmt/sport_ru_news_vs_news_2/train_src.txt\""
   ]
  },
  {
   "cell_type": "code",
   "execution_count": 162,
   "metadata": {},
   "outputs": [
    {
     "name": "stdout",
     "output_type": "stream",
     "text": [
      "Бывший полузащитник Зенита Вячеслав Булавин поделился ожиданиями от матча групповой стадии Лиги чемпионов ЦСКА  Лилль.У ЦСКА трудное положение: обязательно надо выигрывать у Лилля. Ведь завершающий матч предстоит против Интера, который умеет играть в Лиге чемпионов.Не знаю, как скажется на игре армейцев отсутствие Думбия, поскольку в последнее время забивает именно он. В то же время допускаю вариант, что Интер может досрочно решить свою задачу уже в этом туре,  приводит слова Булавин Спорт Уик-Энд.Напомним, матч 5-го тура группового этапа Лиги чемпионов ЦСКА  Лилль состоится сегодня в 21.00 в Лужниках.\r\n"
     ]
    }
   ],
   "source": [
    "! head -n 1 \"./data/opennmt/sport_ru_news_vs_news_2/train_tgt.txt\""
   ]
  },
  {
   "cell_type": "code",
   "execution_count": null,
   "metadata": {
    "collapsed": true
   },
   "outputs": [],
   "source": [
    "! python ./OpenNMT/preprocess.py \\\n",
    "-train_src /data/denisogr/opennmt/sport_ru_news_vs_news_2/source/train_src.txt \\\n",
    "-train_tgt /data/denisogr/opennmt/sport_ru_news_vs_news_2/source/train_tgt.txt \\\n",
    "-valid_src /data/denisogr/opennmt/sport_ru_news_vs_news_2/source/valid_src.txt \\\n",
    "-valid_tgt /data/denisogr/opennmt/sport_ru_news_vs_news_2/source/valid_tgt.txt \\\n",
    "-save_data /data/denisogr/opennmt/sport_ru_news_vs_news_2/data/data \\\n",
    "-share_vocab \\\n",
    "-dynamic_dict \\\n",
    "-src_vocab_size 50000 \\\n",
    "-report_every 1000 \\\n",
    "-shard_size 10000 \\\n",
    "-src_seq_length 5000 \\\n",
    "-src_seq_length_trunc 2000 \\\n",
    "-tgt_seq_length 5000 \\\n",
    "-tgt_seq_length_trunc 2000"
   ]
  },
  {
   "cell_type": "code",
   "execution_count": null,
   "metadata": {
    "collapsed": true
   },
   "outputs": [],
   "source": [
    "! python ./OpenNMT/train.py \\\n",
    "-data \"/data/denisogr/opennmt/sport_ru_news_vs_news_2/data/data\" \\\n",
    "-save_model \"/data/denisogr/opennmt/sport_ru_news_vs_news_2/model/model\" \\\n",
    "-share_embeddings \\\n",
    "-batch_type tokens \\\n",
    "-batch_size 32 \\\n",
    "-valid_batch_size 2 \\\n",
    "-copy_attn \\\n",
    "-global_attention mlp \\\n",
    "-word_vec_size 128 \\\n",
    "-rnn_size 512 \\\n",
    "-layers 1 \\\n",
    "-encoder_type brnn \\\n",
    "-max_grad_norm 2 \\\n",
    "-dropout 0. \\\n",
    "-optim adagrad \\\n",
    "-adagrad_accumulator_init 0.1 \\\n",
    "-reuse_copy_attn \\\n",
    "-copy_loss_by_seqlength \\\n",
    "-bridge \\\n",
    "-seed 42 \\\n",
    "-gpu_ranks 0 \\\n",
    "-save_checkpoint_steps 10000 \\\n",
    "-train_steps 100000 \\\n",
    "-learning_rate 0.001 \\\n",
    "-report_every 1000 \\\n",
    "-valid_steps 20000 \\\n",
    "-layers 4 \\\n",
    "-learning_rate 0.01 \\\n",
    "-encoder_type transformer \\\n",
    "-decoder_type transformer \\\n",
    "-rnn_size 128 \\\n",
    "-world_size 1"
   ]
  },
  {
   "cell_type": "code",
   "execution_count": null,
   "metadata": {
    "collapsed": true
   },
   "outputs": [],
   "source": [
    "python ./OpenNMT/translate.py \\\n",
    "-model \"/data/denisogr/opennmt/sport_ru_news_vs_news_2/model/model_step_100000.pt\" \\\n",
    "-src \"/data/denisogr/opennmt/sport_ru_news_vs_news_2/source/test_src.txt\" \\\n",
    "-tgt \"/data/denisogr/opennmt/sport_ru_news_vs_news_2/source/test_tgt.txt\" \\\n",
    "-output \"/data/denisogr/opennmt/sport_ru_news_vs_news_2/source/test_result.txt\" \\\n",
    "-beam_size 10 \\\n",
    "-dynamic_dict \\\n",
    "-share_vocab \\\n",
    "-batch_size 2 \\\n",
    "-batch_type sents \\\n",
    "-gpu 0 \\\n",
    "-seed 42 \\\n",
    "-report_rouge"
   ]
  },
  {
   "cell_type": "markdown",
   "metadata": {},
   "source": [
    "### Result"
   ]
  },
  {
   "cell_type": "raw",
   "metadata": {},
   "source": [
    "in process...."
   ]
  },
  {
   "cell_type": "code",
   "execution_count": null,
   "metadata": {
    "collapsed": true
   },
   "outputs": [],
   "source": []
  }
 ],
 "metadata": {
  "kernelspec": {
   "display_name": "Python 3",
   "language": "python",
   "name": "python3"
  },
  "language_info": {
   "codemirror_mode": {
    "name": "ipython",
    "version": 3
   },
   "file_extension": ".py",
   "mimetype": "text/x-python",
   "name": "python",
   "nbconvert_exporter": "python",
   "pygments_lexer": "ipython3",
   "version": "3.6.8"
  }
 },
 "nbformat": 4,
 "nbformat_minor": 2
}
