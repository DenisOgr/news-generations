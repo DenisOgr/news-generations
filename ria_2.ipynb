{
 "cells": [
  {
   "cell_type": "markdown",
   "metadata": {},
   "source": [
    "##### Data: ria_2\n",
    "\n",
    "##### Experiment: ex_1"
   ]
  },
  {
   "cell_type": "code",
   "execution_count": 1,
   "metadata": {
    "collapsed": true
   },
   "outputs": [],
   "source": [
    "import pandas as pd\n",
    "from sklearn.model_selection import train_test_split\n",
    "import re\n",
    "from tqdm import tqdm_notebook\n",
    "import os\n",
    "import numpy as np\n",
    "from datetime import datetime\n",
    "pd.set_option('display.max_colwidth', -1)"
   ]
  },
  {
   "cell_type": "code",
   "execution_count": 3,
   "metadata": {
    "collapsed": true
   },
   "outputs": [],
   "source": [
    "# #to Google Collab\n",
    "# from google.colab import drive\n",
    "# drive.mount('/content/gdrive')\n",
    "# path_to_storage = '/content/gdrive/My Drive/UCU-diploma/openNMT'"
   ]
  },
  {
   "cell_type": "code",
   "execution_count": 4,
   "metadata": {
    "collapsed": true
   },
   "outputs": [],
   "source": [
    "# !git clone https://github.com/OpenNMT/OpenNMT-py.git OpenNMT\n",
    "# !cd ./OpenNMT    \n",
    "# !pip install -r requirements.txt"
   ]
  },
  {
   "cell_type": "code",
   "execution_count": 15,
   "metadata": {
    "collapsed": true
   },
   "outputs": [],
   "source": [
    "dir_to_all = './data/opennmt/ria_1_sources'\n",
    "def create_dir(directory):\n",
    "    if not os.path.exists(directory):\n",
    "        os.makedirs(directory)\n",
    "create_dir(dir_to_all)"
   ]
  },
  {
   "cell_type": "code",
   "execution_count": 2,
   "metadata": {},
   "outputs": [
    {
     "data": {
      "text/plain": [
       "'data/ria_news_dataset/ria.json.gz'"
      ]
     },
     "execution_count": 2,
     "metadata": {},
     "output_type": "execute_result"
    }
   ],
   "source": [
    "\"data/ria_news_dataset/ria.json.gz\"\n",
    "#!ls -la data/ria_news_dataset/\n",
    "#!head \"./data/ria_news_dataset/ria.json.gz\""
   ]
  },
  {
   "cell_type": "code",
   "execution_count": 2,
   "metadata": {
    "collapsed": true
   },
   "outputs": [],
   "source": [
    "def clean_news_text(text):\n",
    "    return  re.sub(\"(&#(?:\\d)*;)\", \"\", re.sub(\"<.*?>\", \"\", text)) \\\n",
    "    .replace(\"\\n\",\"\").replace(\"\\r\",\"\").replace(\"\\x96\",\"\") \\\n",
    "    .replace(\"&nbsp;\", \"\").replace(\"&mdash;\", \"\")"
   ]
  },
  {
   "cell_type": "code",
   "execution_count": 3,
   "metadata": {},
   "outputs": [
    {
     "name": "stdout",
     "output_type": "stream",
     "text": [
      "loaded\n"
     ]
    }
   ],
   "source": [
    "news = pd.read_json(\"./data/ria_news_dataset/ria.json.gz\", lines=True,  dtype=['object', 'object'], compression='gzip')\n",
    "print('loaded')\n",
    "news.text = news.text.apply(clean_news_text)"
   ]
  },
  {
   "cell_type": "code",
   "execution_count": 4,
   "metadata": {},
   "outputs": [
    {
     "data": {
      "text/html": [
       "<div>\n",
       "<style scoped>\n",
       "    .dataframe tbody tr th:only-of-type {\n",
       "        vertical-align: middle;\n",
       "    }\n",
       "\n",
       "    .dataframe tbody tr th {\n",
       "        vertical-align: top;\n",
       "    }\n",
       "\n",
       "    .dataframe thead th {\n",
       "        text-align: right;\n",
       "    }\n",
       "</style>\n",
       "<table border=\"1\" class=\"dataframe\">\n",
       "  <thead>\n",
       "    <tr style=\"text-align: right;\">\n",
       "      <th></th>\n",
       "      <th>text</th>\n",
       "      <th>title</th>\n",
       "    </tr>\n",
       "  </thead>\n",
       "  <tbody>\n",
       "    <tr>\n",
       "      <th>0</th>\n",
       "      <td>москва, 31 янв - риа новости. большая часть из 33 детей, которых граждане сша пытались вывезти из гаити в организованный в доминиканской республике приют, не являются сиротами, сообщает в воскресенье агентство франс пресс со ссылкой на заявление представителя международной организации \"детские деревни sos\" (sos children's village), оказывающей помощь детям, оставшимся без родителейкак заявила агентству патрисия варгас (patricia vargas), курирующая программы \"детских деревень sos\" в центральной америке, мексике и на карибах, поговорив с детьми она выяснила, что родители многих из них живы. некоторые дети смогли назвать свои домашние адреса и номера телефонов, что дает возможность связаться с их родителями.в это воскресенье гаитянская полиция задержала десятерых граждан сша, подозреваемых в попытке без разрешения вывезти более 30 детей в доминиканскую республику.представитель баптистской церкви в городе меридиан американского штата айдахо шон лэнкфорд (sean lankford) заявил, что задержанные прибыли на гаити в составе группы, помогающей детям, которые остались без родителей после разрушительного землетрясения 12 января.лэнкфорд также сообщил, что в числе задержанных его дочь и жена, и они думали, что у них имеются все необходимые документы, позволяющие вывезти детей в организованный в доминиканской республике приют.в настоящее время все эти дети, за исключением маленькой девочки, страдающей от истощения, которая была госпитализирована, находятся в благотворительном центре организации в городе круа-де-букет (croix des bouquets), расположенном в 12 километрах к северо-востоку от столицы гаити порт-о-пренса.по словам варгас, точный возраст малышки не известен, врачи полагают, что ей около 7 месяцев.центр \"детских деревень sos\" на гаити юридически не является сиротским приютом и не отдает детей на усыновление.ранее гаитянские интернет-ресурсы сообщали, что за  детьми, оставшимися сиротами после землетрясения, охотятся педофилы и торговцы  людьми &amp;gt;&amp;gt;как отмечает франс пресс, после разгула стихии на гаити были установлены новые правила усыновления, согласно которым премьер-министр страны жан-макс бельрив должен лично разрешить вывоз сирот. целью подобных мер является пресечение попыток незаконного вывоза детей для преступных целей в условиях хаоса, царящего в стране после разгула стихии.по данным ответственных лиц на гаити, тысячи детей могли быть разлучены с родителями или лишиться их в результате двух землетрясений магнитудой 7 и 5,9, произошедших у побережья этого островного государства 12 января.</td>\n",
       "      <td>большинство детей, которых пытались увезти в сша из гаити, не сироты</td>\n",
       "    </tr>\n",
       "  </tbody>\n",
       "</table>\n",
       "</div>"
      ],
      "text/plain": [
       "                                                                                                                                                                                                                                                                                                                                                                                                                                                                                                                                                                                                                                                                                                                                                                                                                                                                                                                                                                                                                                                                                                                                                                                                                                                                                                                                                                                                                                                                                                                                                                                                                                                                                                                                                                                                                                                                                                                                                                                                                                                                                                                                                                                                                                                                                                                                                                                                                                                                                                                                                                                                                                            text  \\\n",
       "0  москва, 31 янв - риа новости. большая часть из 33 детей, которых граждане сша пытались вывезти из гаити в организованный в доминиканской республике приют, не являются сиротами, сообщает в воскресенье агентство франс пресс со ссылкой на заявление представителя международной организации \"детские деревни sos\" (sos children's village), оказывающей помощь детям, оставшимся без родителейкак заявила агентству патрисия варгас (patricia vargas), курирующая программы \"детских деревень sos\" в центральной америке, мексике и на карибах, поговорив с детьми она выяснила, что родители многих из них живы. некоторые дети смогли назвать свои домашние адреса и номера телефонов, что дает возможность связаться с их родителями.в это воскресенье гаитянская полиция задержала десятерых граждан сша, подозреваемых в попытке без разрешения вывезти более 30 детей в доминиканскую республику.представитель баптистской церкви в городе меридиан американского штата айдахо шон лэнкфорд (sean lankford) заявил, что задержанные прибыли на гаити в составе группы, помогающей детям, которые остались без родителей после разрушительного землетрясения 12 января.лэнкфорд также сообщил, что в числе задержанных его дочь и жена, и они думали, что у них имеются все необходимые документы, позволяющие вывезти детей в организованный в доминиканской республике приют.в настоящее время все эти дети, за исключением маленькой девочки, страдающей от истощения, которая была госпитализирована, находятся в благотворительном центре организации в городе круа-де-букет (croix des bouquets), расположенном в 12 километрах к северо-востоку от столицы гаити порт-о-пренса.по словам варгас, точный возраст малышки не известен, врачи полагают, что ей около 7 месяцев.центр \"детских деревень sos\" на гаити юридически не является сиротским приютом и не отдает детей на усыновление.ранее гаитянские интернет-ресурсы сообщали, что за  детьми, оставшимися сиротами после землетрясения, охотятся педофилы и торговцы  людьми &gt;&gt;как отмечает франс пресс, после разгула стихии на гаити были установлены новые правила усыновления, согласно которым премьер-министр страны жан-макс бельрив должен лично разрешить вывоз сирот. целью подобных мер является пресечение попыток незаконного вывоза детей для преступных целей в условиях хаоса, царящего в стране после разгула стихии.по данным ответственных лиц на гаити, тысячи детей могли быть разлучены с родителями или лишиться их в результате двух землетрясений магнитудой 7 и 5,9, произошедших у побережья этого островного государства 12 января.   \n",
       "\n",
       "                                                                  title  \n",
       "0  большинство детей, которых пытались увезти в сша из гаити, не сироты  "
      ]
     },
     "execution_count": 4,
     "metadata": {},
     "output_type": "execute_result"
    }
   ],
   "source": [
    "news.head(1)"
   ]
  },
  {
   "cell_type": "code",
   "execution_count": 26,
   "metadata": {},
   "outputs": [
    {
     "data": {
      "text/plain": [
       "(1003726, 2)"
      ]
     },
     "execution_count": 26,
     "metadata": {},
     "output_type": "execute_result"
    }
   ],
   "source": [
    "news.shape"
   ]
  },
  {
   "cell_type": "code",
   "execution_count": 25,
   "metadata": {
    "collapsed": true
   },
   "outputs": [],
   "source": [
    "news['text'].replace(' ', np.nan, inplace=True)\n",
    "news['title'].replace(' ', np.nan, inplace=True)\n",
    "news = news.dropna()"
   ]
  },
  {
   "cell_type": "code",
   "execution_count": 27,
   "metadata": {},
   "outputs": [
    {
     "name": "stdout",
     "output_type": "stream",
     "text": [
      "Len X_train:  803984\n",
      "Len X_val:  99369\n",
      "Len X_test:  100373\n"
     ]
    }
   ],
   "source": [
    "X_train, X_test = train_test_split(news, test_size=0.1, random_state=42)\n",
    "X_train, X_val = train_test_split(X_train, test_size=0.11, random_state=42)\n",
    "print(\"Len X_train: \", len(X_train))\n",
    "print(\"Len X_val: \", len(X_val))\n",
    "print(\"Len X_test: \", len(X_test))"
   ]
  },
  {
   "cell_type": "code",
   "execution_count": 28,
   "metadata": {
    "collapsed": true
   },
   "outputs": [],
   "source": [
    "def create_dataset(X, type_ds, to_dir):\n",
    "    assert type_ds in ['test','train', 'valid']\n",
    "    create_dir(to_dir)\n",
    "    count_lines = 0\n",
    "    src_file = \"%s/%s_src.txt\"%(to_dir,type_ds)\n",
    "    tgt_file = \"%s/%s_tgt.txt\"%(to_dir,type_ds)\n",
    "    with(open(src_file, 'w')) as f_text:\n",
    "        with(open(tgt_file, 'w')) as f_titles:\n",
    "            for i, row in tqdm_notebook(X.iterrows()):\n",
    "                if len(row.text) == 0 or len(row.title) == 0:\n",
    "                    print(\"skip\")\n",
    "                    continue\n",
    "                f_text.write(row.text + \"\\n\")\n",
    "                f_titles.write(row.title + \"\\n\")\n",
    "                count_lines +=1\n",
    "    print(\"Source file: \", src_file)\n",
    "    print(\"Target file: \", tgt_file)\n",
    "    print(\"Count lines: \",count_lines)"
   ]
  },
  {
   "cell_type": "code",
   "execution_count": 29,
   "metadata": {
    "scrolled": true
   },
   "outputs": [
    {
     "name": "stdout",
     "output_type": "stream",
     "text": [
      "Build train dataset\n"
     ]
    },
    {
     "data": {
      "application/vnd.jupyter.widget-view+json": {
       "model_id": "8c5e340d6823430a93320e61f6e667f5",
       "version_major": 2,
       "version_minor": 0
      },
      "text/plain": [
       "HBox(children=(IntProgress(value=1, bar_style='info', max=1), HTML(value='')))"
      ]
     },
     "metadata": {},
     "output_type": "display_data"
    },
    {
     "name": "stdout",
     "output_type": "stream",
     "text": [
      "Source file:  ./data/opennmt/ria_2_sources/train_src.txt\n",
      "Target file:  ./data/opennmt/ria_2_sources/train_tgt.txt\n",
      "Count lines:  803984\n",
      "Build test dataset\n"
     ]
    },
    {
     "data": {
      "application/vnd.jupyter.widget-view+json": {
       "model_id": "518c78ef40ac4b8d960bef58edd42857",
       "version_major": 2,
       "version_minor": 0
      },
      "text/plain": [
       "HBox(children=(IntProgress(value=1, bar_style='info', max=1), HTML(value='')))"
      ]
     },
     "metadata": {},
     "output_type": "display_data"
    },
    {
     "name": "stdout",
     "output_type": "stream",
     "text": [
      "Source file:  ./data/opennmt/ria_2_sources/test_src.txt\n",
      "Target file:  ./data/opennmt/ria_2_sources/test_tgt.txt\n",
      "Count lines:  100373\n",
      "Build valid dataset\n"
     ]
    },
    {
     "data": {
      "application/vnd.jupyter.widget-view+json": {
       "model_id": "1e30f805003d41d38ff6cd63cdfe6c9a",
       "version_major": 2,
       "version_minor": 0
      },
      "text/plain": [
       "HBox(children=(IntProgress(value=1, bar_style='info', max=1), HTML(value='')))"
      ]
     },
     "metadata": {},
     "output_type": "display_data"
    },
    {
     "name": "stdout",
     "output_type": "stream",
     "text": [
      "Source file:  ./data/opennmt/ria_2_sources/valid_src.txt\n",
      "Target file:  ./data/opennmt/ria_2_sources/valid_tgt.txt\n",
      "Count lines:  99369\n"
     ]
    }
   ],
   "source": [
    "print(\"Build train dataset\")\n",
    "create_dataset(X_train, 'train', \"./data/opennmt/ria_2_sources\")\n",
    "print(\"Build test dataset\")\n",
    "create_dataset(X_test, 'test', \"./data/opennmt/ria_2_sources\")\n",
    "print(\"Build valid dataset\")\n",
    "create_dataset(X_val, 'valid', \"./data/opennmt/ria_2_sources\")"
   ]
  },
  {
   "cell_type": "code",
   "execution_count": 30,
   "metadata": {},
   "outputs": [
    {
     "name": "stdout",
     "output_type": "stream",
     "text": [
      "  803984 ./data/opennmt/ria_2_sources/train_src.txt\n",
      "  803984 ./data/opennmt/ria_2_sources/train_tgt.txt\n",
      "  100373 ./data/opennmt/ria_2_sources/test_src.txt\n",
      "  100373 ./data/opennmt/ria_2_sources/test_tgt.txt\n",
      "   99369 ./data/opennmt/ria_2_sources/valid_src.txt\n",
      "   99369 ./data/opennmt/ria_2_sources/valid_tgt.txt\n"
     ]
    }
   ],
   "source": [
    "!wc -l ./data/opennmt/ria_2_sources/train_src.txt\n",
    "!wc -l ./data/opennmt/ria_2_sources/train_tgt.txt\n",
    "!wc -l ./data/opennmt/ria_2_sources/test_src.txt\n",
    "!wc -l ./data/opennmt/ria_2_sources/test_tgt.txt\n",
    "!wc -l ./data/opennmt/ria_2_sources/valid_src.txt\n",
    "!wc -l ./data/opennmt/ria_2_sources/valid_tgt.txt"
   ]
  },
  {
   "cell_type": "code",
   "execution_count": null,
   "metadata": {
    "collapsed": true
   },
   "outputs": [],
   "source": [
    "#create_dir(\"./data/opennmt/ria_1_sources\")\n",
    "create_dir(\"./data/opennmt/ria_1_sources/data\")"
   ]
  },
  {
   "cell_type": "code",
   "execution_count": 58,
   "metadata": {
    "collapsed": true
   },
   "outputs": [],
   "source": [
    "! python ./OpenNMT/preprocess.py \\\n",
    "-train_src /data/denisogr/opennmt/ria_2_sources/source/train_src.txt \\\n",
    "-train_tgt /data/denisogr/opennmt/ria_2_sources/source/train_tgt.txt \\\n",
    "-valid_src /data/denisogr/opennmt/ria_2_sources/source/valid_src.txt \\\n",
    "-valid_tgt /data/denisogr/opennmt/ria_2_sources/source/valid_tgt.txt \\\n",
    "-save_data /data/denisogr/opennmt/ria_2_sources/data/data \\\n",
    "-share_vocab \\\n",
    "-dynamic_dict \\\n",
    "-src_vocab_size 50000 \\\n",
    "-report_every 1000 \\\n",
    "-shard_size 10000 \\\n",
    "-src_seq_length_trunc 5000 \\\n",
    "-tgt_seq_length 500 \\\n",
    "-src_seq_length 10000"
   ]
  },
  {
   "cell_type": "code",
   "execution_count": null,
   "metadata": {
    "collapsed": true
   },
   "outputs": [],
   "source": [
    "! python ./OpenNMT/train.py \\\n",
    "-data \"/data/denisogr/opennmt/ria_2_sources/data/data\" \\\n",
    "-save_model \"/data/denisogr/opennmt/ria_2_sources/model\" \\\n",
    "-share_embeddings \\\n",
    "-batch_type tokens \\\n",
    "-batch_size 32 \\\n",
    "-valid_batch_size 2 \\\n",
    "-copy_attn \\\n",
    "-global_attention mlp \\\n",
    "-word_vec_size 128 \\\n",
    "-rnn_size 512 \\\n",
    "-layers 1 \\\n",
    "-encoder_type brnn \\\n",
    "-max_grad_norm 2 \\\n",
    "-dropout 0. \\\n",
    "-optim adagrad \\\n",
    "-adagrad_accumulator_init 0.1 \\\n",
    "-reuse_copy_attn \\\n",
    "-copy_loss_by_seqlength \\\n",
    "-bridge \\\n",
    "-seed 42 \\\n",
    "-gpu_ranks 0 \\\n",
    "-save_checkpoint_steps 10000 \\\n",
    "-train_steps 100000 \\\n",
    "-learning_rate 0.001 \\\n",
    "-report_every 1000 \\\n",
    "-valid_steps 20000 \\\n",
    "-layers 4 \\\n",
    "-learning_rate 0.01 \\\n",
    "-encoder_type transformer \\\n",
    "-decoder_type transformer \\\n",
    "-rnn_size 128 \\\n",
    "-world_size 1"
   ]
  },
  {
   "cell_type": "code",
   "execution_count": null,
   "metadata": {
    "collapsed": true
   },
   "outputs": [],
   "source": [
    "! python ./OpenNMT/translate.py \\\n",
    "-model \"/data/denisogr/opennmt/ria_2_sources/model/model_step_100000.pt\" \\\n",
    "-src \"/data/denisogr/opennmt/ria_2_sources/source/test_src.txt\" \\\n",
    "-tgt \"/data/denisogr/opennmt/ria_2_sources/source/test_tgt.txt\" \\\n",
    "-output \"/data/denisogr/opennmt/ria_2_sources/source/test_result.txt\" \\\n",
    "-beam_size 10 \\\n",
    "-dynamic_dict \\\n",
    "-share_vocab \\\n",
    "-batch_size 2 \\\n",
    "-batch_type sents \\\n",
    "-gpu 0 \\\n",
    "-seed 42 \\\n",
    "-report_rouge\n",
    "\n"
   ]
  },
  {
   "cell_type": "code",
   "execution_count": null,
   "metadata": {
    "collapsed": true
   },
   "outputs": [],
   "source": [
    "files2rouge ./data/opennmt/all/pred_news.broad.txt ./data/opennmt/all/test_tgt.news.txt"
   ]
  },
  {
   "cell_type": "markdown",
   "metadata": {},
   "source": [
    "### Results"
   ]
  },
  {
   "cell_type": "raw",
   "metadata": {},
   "source": [
    "пресс-конференция пресс-конференция в пресс-конференция\n",
    "<unk> <unk> <unk> <unk>\n",
    "<unk> <unk> <unk> <unk> <unk>\n",
    "<unk> <unk> <unk> <unk> <unk>\n",
    "дтп в <unk> <unk> <unk>\n",
    "<unk> <unk> <unk> <unk> <unk>\n",
    "<unk> <unk> <unk> <unk>\n",
    "<unk> <unk>\n",
    "<unk> <unk> <unk> <unk>\n",
    "<unk> <unk> <unk> <unk>\n",
    "<unk>\n",
    "<unk> <unk> <unk>\n",
    "пожар в пожар в <unk> <unk>\n",
    "<unk> <unk> <unk>\n",
    "пожар в <unk> <unk> <unk>\n",
    "<unk>\n",
    "<unk>\n",
    "евро евро в евро в евро в евро\n",
    "<unk> <unk>\n",
    "нефть нефть <unk> в нефть"
   ]
  },
  {
   "cell_type": "code",
   "execution_count": null,
   "metadata": {
    "collapsed": true
   },
   "outputs": [],
   "source": []
  }
 ],
 "metadata": {
  "kernelspec": {
   "display_name": "opennmt",
   "language": "python",
   "name": "myenv"
  },
  "language_info": {
   "codemirror_mode": {
    "name": "ipython",
    "version": 3
   },
   "file_extension": ".py",
   "mimetype": "text/x-python",
   "name": "python",
   "nbconvert_exporter": "python",
   "pygments_lexer": "ipython3",
   "version": "3.7.4"
  }
 },
 "nbformat": 4,
 "nbformat_minor": 2
}
