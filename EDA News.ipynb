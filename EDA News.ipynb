{
 "cells": [
  {
   "cell_type": "markdown",
   "metadata": {},
   "source": [
    "# TextRank + ROUGE"
   ]
  },
  {
   "cell_type": "code",
   "execution_count": 19,
   "metadata": {},
   "outputs": [],
   "source": [
    "import pandas as pd\n",
    "import matplotlib.pyplot as plt\n",
    "import os\n",
    "import numpy as np\n",
    "import networkx as nx\n",
    "from rouge import Rouge\n",
    "from tqdm import tqdm_notebook\n",
    "import time\n",
    "import os.path\n",
    "from datetime import datetime\n",
    "import re"
   ]
  },
  {
   "cell_type": "markdown",
   "metadata": {},
   "source": [
    "### Build dataset"
   ]
  },
  {
   "cell_type": "code",
   "execution_count": 3,
   "metadata": {},
   "outputs": [],
   "source": [
    "dtypes_br = {\n",
    "    'match_id': 'int64',\n",
    "    'team1': 'object',\n",
    "    'team2': 'object',\n",
    "    'name': 'object',\n",
    "    'match_time': 'int64',\n",
    "    'type': 'category',\n",
    "    'minute': 'int64',\n",
    "    'content': 'object',\n",
    "    'message_time':'int64'\n",
    "}\n",
    "broadcasts = pd.read_csv('data/ods_broadcasts_201905301157.csv',\n",
    "                 header=0, \n",
    "                 usecols=dtypes_br.keys(), \n",
    "                 skipinitialspace=True,\n",
    "                 skip_blank_lines=True,\n",
    "                 encoding='utf-8')\n",
    "broadcasts.content.apply(str)\n",
    "dtypes_ns = {\n",
    "    'id': 'int64',\n",
    "    'name': 'object',\n",
    "    'ctime': 'int64',\n",
    "    'body': 'object',\n",
    "    'match_id': 'int64',\n",
    "}\n",
    "news = pd.read_csv('data/ods_match_news.csv',\n",
    "                 header=0, \n",
    "                 usecols=dtypes_ns.keys(), \n",
    "                 skipinitialspace=True,\n",
    "                 skip_blank_lines=True,\n",
    "                 encoding='utf-8')"
   ]
  },
  {
   "cell_type": "code",
   "execution_count": 4,
   "metadata": {},
   "outputs": [
    {
     "data": {
      "text/plain": [
       "7671"
      ]
     },
     "execution_count": 4,
     "metadata": {},
     "output_type": "execute_result"
    }
   ],
   "source": [
    "len(news.match_id.unique())"
   ]
  },
  {
   "cell_type": "code",
   "execution_count": 5,
   "metadata": {},
   "outputs": [],
   "source": [
    "def time_type_news(one_news, one_broadcasts):\n",
    "    assert type(one_news) == pd.core.series.Series, \"one_news should be Series\"\n",
    "    assert type(one_broadcasts) == pd.core.series.Series, \"one_news should be Series\"\n",
    "    before = 'before'\n",
    "    after = 'after'\n",
    "    time_match = datetime.fromtimestamp(one_broadcasts.match_time)\n",
    "    time_news  = datetime.strptime(one_news.ctime, \"%Y-%m-%d %H:%M:%S\")\n",
    "    #print(time_match, \"-\", time_news, before if time_news < time_match else after)\n",
    "    return before if time_news < time_match else after"
   ]
  },
  {
   "cell_type": "code",
   "execution_count": 6,
   "metadata": {},
   "outputs": [],
   "source": [
    "before = []\n",
    "after = []\n",
    "for match_id in news.match_id.unique():\n",
    "    one_broadcast = broadcasts[broadcasts['match_id']==match_id].iloc[0]\n",
    "    news_scope = news[news.match_id==match_id]\n",
    "    one_result = {'after':0, 'before':0}\n",
    "    for i in range(len(news_scope)):\n",
    "        cur_news = news_scope.iloc[i]\n",
    "        ttn = time_type_news(cur_news, one_broadcast)\n",
    "        one_result[ttn] += 1\n",
    "    before.append(one_result['before'])\n",
    "    after.append(one_result['after'])"
   ]
  },
  {
   "cell_type": "code",
   "execution_count": 7,
   "metadata": {},
   "outputs": [],
   "source": [
    "assert len(before)==len(after)"
   ]
  },
  {
   "cell_type": "code",
   "execution_count": 8,
   "metadata": {
    "scrolled": true
   },
   "outputs": [
    {
     "data": {
      "image/png": "[encoded data removed]",
      "text/plain": [
       "<Figure size 1440x720 with 1 Axes>"
      ]
     },
     "metadata": {
      "needs_background": "light"
     },
     "output_type": "display_data"
    }
   ],
   "source": [
    "plt.figure(figsize=(20,10))\n",
    "plt.hist([before,after],label=['before', 'after'], bins=40)\n",
    "plt.legend(prop={'size': 10})\n",
    "plt.title(\"Distributation of count before and after news\")\n",
    "plt.xlabel(\"Number news\")\n",
    "plt.ylabel(\"Number matches\")\n",
    "plt.xticks(range(0,100,2), rotation=50);"
   ]
  },
  {
   "cell_type": "code",
   "execution_count": 10,
   "metadata": {},
   "outputs": [
    {
     "data": {
      "text/plain": [
       "array([18936, 18935, 18941, 18956, 18957, 19236, 19222, 19227, 18925,\n",
       "       19104, 19105, 19235, 19231, 19108, 19107, 19109, 19113, 19111,\n",
       "       19114, 19112, 19115, 19116, 19117, 19122, 19120, 19119, 19121,\n",
       "       19644, 19647, 19123, 19125, 19124, 19126, 19127, 19129, 19128,\n",
       "       19130, 19654, 19653, 19132, 19131, 19133, 19134, 19137, 19135,\n",
       "       19136, 19138, 19675, 19142, 19139, 19140, 19143, 19144, 19145,\n",
       "       19146, 19682, 19683, 19671, 19699, 19147, 19150, 19705, 19148,\n",
       "       19153, 19154, 19707, 19152, 19151, 19725, 19723, 19724, 19738,\n",
       "       19157, 19155, 19746, 19156, 19161, 19747, 19162, 19160, 19159,\n",
       "       19757, 19163, 19164, 19165, 19166, 19170, 19764, 19168, 19169,\n",
       "       19167, 19765, 19763, 19174, 19172, 19173, 19171, 19177, 19178,\n",
       "       19176])"
      ]
     },
     "execution_count": 10,
     "metadata": {},
     "output_type": "execute_result"
    }
   ],
   "source": [
    "news.match_id.unique()[0:100]"
   ]
  },
  {
   "cell_type": "code",
   "execution_count": 17,
   "metadata": {},
   "outputs": [],
   "source": [
    "def clean_news_text(text):\n",
    "    return  re.sub(\"(&#(?:\\d)*;)\", \"\", re.sub(\"<.*?>\", \"\", text)).replace(\"\\n\",\"\").replace(\"\\r\",\"\").replace(\"\\x96\",\"\")"
   ]
  },
  {
   "cell_type": "code",
   "execution_count": 21,
   "metadata": {
    "scrolled": false
   },
   "outputs": [
    {
     "name": "stdout",
     "output_type": "stream",
     "text": [
      "==== before =====\n",
      "Сегодня Sports.ru продолжит текстовые трансляции чемпионата мира-2009. За всеми значимыми событиями (голы, броски, удаления и т.д.) всех матчей дня вы сможете следить на странице онлайна, обмениваясь по ходу впечатлениями в матч-чате.При этом для матча Россия  Швейцария предусмотрена подробная текстовая трансляция. Начало онлайна  в 17.30 по московскому времени.\n",
      "==== before =====\n",
      "Главный тренер сборной России Вячеслав Быков оценил конкуренцию среди вратарей, объяснил, с чем связана эпидемия травм, а также рассказал о Швейцарии, с которой нашей команде предстоит сыграть в третьем матче группового этапа ЧМ-2009.Против Швейцарии будет играть Брызгалов. Выйдет ли Еременко на лед еще? У нас заявлены два вратаря. По ситуации примем решение по третьему голкиперу. Я пока не могу ничего обещать. Посмотрим по ходу турнира. Этот чемпионат состоит не из 20 матчей. Он может получиться скоротечным. Нужно быть внимательным и осторожным.Вариант с приглашением вратарей из НХЛ не исключен. В сборной должна быть конкуренция. А нам нужно иметь контакт со всеми ребятами.Еременко обиделся, что его априори посчитали вторым, когда приехал Брызгалов? Мы нигде не говорили, что у нас есть первый и второй вратарь. И я отказываюсь впредь разговаривать на эту тему. У нас двери открыты для любого игрока. Они это прекрасно знают.Гладить кого-то по головке, надевать носочки и укладывать спать  не наш метод. У нас есть состав, в нем существует конкуренция. Все они взрослые ребята. Профессионалы. Не вижу никакой проблемы. Это все надуманно. У нас дружный коллектив.Что касается Волченкова, то мы, безусловно, рассчитываем на него в Ванкувере-2010. В августе мы увидим Антона в Москве на предолимпийском сборе. Я думаю, он выступит в Ванкувере.Эпидемия травм? В матче с французами Сашка Радулов посмотрел на лавочку и говорит: Такое впечатление, будто у нас полкоманды удалили. Я ему ответил: Нас мало, но мы в тельняшках. Будем работать тем составом, который у нас есть. Травмы и болезни  такое контролировать тяжело. Хотя врачи у нас начеку. Наверное, проблем избежать можно. Но хоккей засасывает ребят  они хотят забить гол и рискуют собой.Наш следующий соперник Швейцария  это команда, которая агрессивно провела матчи с немцами и французами. И с нами она будет играть в том же ключе, видя, что мы не в полном составе. Посмотрим, насколько их хватит. Хорошие полевые хоккеисты, сильный вратарь Гербер Тем интереснее получится матч. По рейтингу и игре я ставлю Швейцарию выше, чем Германию и Францию. Это серьезный соперник. Да и в плей-офф команда выходит регулярноПриглашение Жердева? Кандидатура Николая рассматривается. Мы вообще смотрим широко и далеко. Обдумали все возможные варианты. Это в голове. Но сейчас я вам ничего не скажу, ребята. Можете связать мне руки, приставить автомат, повести на расстрел  все равно буду молчать. Не время сейчас это объявлять,  приводит слова тренера Советский спорт.\n",
      "==== before =====\n",
      "Нападающий сборной России и «Ак Барса» Данис Зарипов пропустит матч чемпионата мира-2009 против Швейцарии из-за травмы. Как уже сообщал Sports.ru, форвард получил травму во встрече с Францией (7:2). Всего в активе Зарипова на этом турнире 3 (2+1) очка.Другой нападающий российской команды, Александр Фролов, сегодня должен провести свой первый матч на чемпионате. Форвард «Лос-Анджелеса» не принимал участия в двух первых играх сборной России из-за простуды, сообщает официальный сайт ФХР.Напомним, что Sports.ru проведет текстовый онлайн матча Швейцария  Россия.\n",
      "==== before =====\n",
      "Главный тренер сборной Швейцарии Ральф Крюгер в преддверии матча чемпионата мира с Россией отметил, что его команда может воспользоваться проблемами россиян с составом, но заявил, что не ждет от своих хоккеистов победы в предстоящей игре.Если в Квебеке решающий вклад в чемпионство русских внесли игроки из НХЛ, то теперь лидерами команды являются звезды из российской лиги. В чем-то они даже опаснее признанных заокеанских звезд. Одинаково настраиваться на большую победу два года подряд тяжело. А тем же Овечкину и Семину в принципе никому и ничего не надо доказывать. У тех же хоккеистов, которые не выигрывали золотых медалей в Квебеке, но приехали в Берн, очень много амбиций.Русские здесь будут гонять по льду все команды. Что касается нашей сборной, то мы и вправду пока не показываем тот хоккей, в который хотим играть. Например, бригады большинства работают совершенно бездарно. Но это не значит, что мы  плохая команда, согласная выступать в роли боксерской груши. Нашим первым козырем может стать жесткая игра от обороны. Мы планируем придерживаться закрытого хоккея, вылезать в чужую зону гораздо реже, чем в предыдущих встречах. Наши игроки готовы висеть на плечах у российских нападающих. Вторым козырем должна стать сумасшедшая поддержка наших трибун. Может, кому-то не нравится, что наш дворец не слишком новый, но у болельщиков на этой арене потрясающая энергетика.Критикам швейцарской сборной хочу напомнить  на старте домашнего чемпионата мира трудновато справляться с прессингом и амбициозными ожиданиями всей страны. Все-таки от нас ждут удачного выступления в плей-офф и даже медалей, а также града заброшенных шайб в каждом матче. Но мы пока ни Россия и ни Чехия. Рвать с места в карьер нам трудновато. Так что пусть русские не расслабляются. У нас есть специальный план подготовки к турниру, в котором предусматривалось, что на старте чемпионата несколько периодов уйдут на банальную раскачку. Но потом наша сборная из невзрачного бутона должна превратиться в чудесную, свежераскрытую розу. Мы на самом деле находимся неподалеку от пика формы.Дебюты многих встреч складывались так, что мы были близки забить один, а то и два гола. Получать преимущество в счете, а потом откатываться всей командой назад  вот неплохой рецепт для противостояния с русскими. И, конечно, не нужно забивать в свои ворота, как это случилось в прошлогоднем четвертьфинале в Квебеке. Вчера мы даже шутили на тренировке над защитником Фюррером, который тогда отличился подобным образом. Опять же в Канаде наша сборная временами превосходила Россию не только в агрессивности, но даже в катании. Просто при счете 0:3 шансов против русских нет никаких. Так что если на родной арене после первых минут ничто не пойдет наперекосяк, у нас будет возможность проиграть в достойной борьбе. Мы не слабее россиян в шесть раз, осталось только убедить в этом соперника.Меня лично это радует то, что у вашей команды проблемы с составом. Надеюсь, мы сможем четырьмя звеньями погонять российскую сборную по льду, особенно в концовках периодов. Я уже объяснил своим хоккеистам, как важно будет поддерживать высокий темп на протяжении всех 60 минут. Стратегия русских, до последнего момента ждущих усиления из НХЛ, сыграет во время матча за нас. Своим усеченным составом Россия чем-то напоминает Канаду прошлых лет. Когда на первый матч чемпионата турнира кленовые листья могли выставить 13 полевых игроков. Такой, знаете ли, маленький подарок тренерам тех соперников, которые проповедуют жесткий скоростной хоккей. Вроде нас.Мы готовы к тому, что получим по итогам встречи баранку. Еще в октябре прошлого года я знал, что самыми важными матчами на групповом этапе станут игры с Францией и Германией. Конечно, пять уже набранных очков  хуже, чем шесть. Однако если бы хоккейные боги предложили мне овертайм со сборной России на фоне травмы одного из ведущих наших игроков, я от такой перспективы отказался бы. Свои очки, которые выведут нас в плей-офф, будем брать в квалификационном раунде против менее умелых команд. Можно даже сказать, что матч с русскими станет для нас тренировкой повышенной сложности. Перед квалификационным раундом всем звеньям необходимо прибавить в сыгранности, а бригадам большинства наконец-то научиться создавать голевые моменты и записывать на свой счет шайбы. Правда, соперник, скорее всего, будет тестировать класс бригад меньшинства сборной Швейцарии. Эти хоккейные моменты, а также радость наших болельщиков от просмотра красивого зрелища станут важнее, чем гипотетические турнирные очки,  цитирует Крюгера Спорт-Экспресс.\n",
      "==== before =====\n",
      "Нападающий сборной России Алексей Терещенко признался, что мало знает о предстоящем сопернике россиян на чемпионате мира  Швейцарии, а также заявил, что его звено готово заменить тройку форвардов Вашингтона, если те продолжат борьбу за Кубок Стэнли.Каждый матч добавляет нам сыгранности. Я с ребятами из Ак Барса провел всего несколько игр. В прошлом году одну встречу сыграли на Чешских играх, потом три на Кубке Первого канала. С первого раза действовать по-настоящему остро не получилось. Хотя и в игре против немцев у нас откровенно неудачных смен было по одной-две за период. А в матче с Францией уже получалось кормить Морозова с Зариповым острыми передачами.У Овечкина и его партнеров голова снова забита борьбой в Кубке Стэнли. Нам очень хочется видеть их в Берне, и мы с партнерами по команде обсуждаем последние события в заокеанской лиге. Но раз Вашингтон нашел свою игру, то пожелаю нашим удачи в плей-офф НХЛ.В матче с Францией, когда с игры сняли Даниса Зарипова, вообще пришлось действовать в три звена. Но на качестве это не сказалось  впереди получалось очень многое. А еще меня радует, с каким настроем занимаются Мозякин и Счастливый. Они ждут своего шанса и работают как проклятые. Так что у нас при любом исходе серии Вашингтона будет полноценная команда. Правда, на льду в нынешних условиях больше думаешь о безопасности. Получить травму никому не хочется, поэтому в матчах с аутсайдерами стараешься меньше ходить в жесткие стыки.Да, центральных нападающих у нас пока почти столько же, сколько здоровых крайних  из-за этого постоянно меняются партнеры по тройке. Но ведь при этом получается и много забивать, и неплохо обороняться. Думаю, мы всем, в том числе и нашим критикам, покажем, что чемпионы мира будут лучшей командой в Швейцарии.Пока я не видел игру в исполнении Швейцарии  узнавал только счет. Но сборная Швейцарии будет опаснее, чем немцы или французы. Здесь по телевизору показывают рекламные ролики, которые приглашают жителей страны болеть за хоккейную сборную. Если судить по ним, то с шайбой и клюшкой швейцарцы обращаются очень прилично. К тому же к их сборной уже подъезжают энхаэловцы, вылетевшие из Кубка Стэнли. А в составе много игроков из национальной лиги, которая, судя по результатам еврокубков, лучшая в Старом Свете.В идее с сухарем Брызгалова был и дисциплинирующий момент. Чтобы не заигрываться и четко обороняться даже при счете 3:0. А помочь Саше, к сожалению, не вышло. Во второй половине матча почувствовали себя вальяжно, появились провалы в обороне. А ведь помочь Ереме тоже было необходимо. Он после матча расстроился. Ему очень обидно, в раздевалке подавленный сидел.Я полностью готов к столь ответственным задачам. У нас налаживается игра в большинстве, а к решающим моментам больших матчей прибавим в сыгранности. Да и с психологией проблем не будет  все-таки в КХЛ нам приходилось вести команду за собой. Так что не бойтесь поражения Рейнджерс. Если что, качественно отработаем на местах Овечкина и Федорова,  рассказал Терещенко в интервью Спорт-Экспрессу.\n",
      "==== before =====\n",
      "Чемпионат мираШвейцария26 апреляГруппа АКанада  Словакия  7:3 (3:0, 3:1, 1:2)1:0  04.50 Рой (Сен-Луи, Уэбер), ГБ2:0  06.54 Доун (Сен-Луи, Хитли), ГБ3:0  16.51 Спецца (Уэбер, Хитли), ГБ3:1  26.05 Суровы (Олвецки)4:1  29.39 Уайт (Стэмкос, Сен-Луи)5:1  33.41 Уэбер (Сен-Луи), ГБ6:1  35.04 Стэмкос (Ломбарди, Уэбер), ГБ7:1  42.04 Спецца (Ломбарди)7:2  55.40 Госса (Микуш, Ружичка), ГБ7:3  58.48 Граняк (Надь, Радивоевич), ГБВратари: Ролосон  Галак (33.41 &ndash; 60.00 Лашак).Венгрия  Белоруссия  1:3 (0:1, 1:0, 0:2)0:1  03.18 Калюжный (Антоненко, Салей), ГБ1:1  25.14 Петерди (Ладаньи, Ваш)1:2  54.25 Угаров (Калюжный, Грабовский)1:3  59.10 Грабовский (Калюжный, Салей), ПВВратари: Супер (58.50  59.10 ПВ)  Мезин.ЧМ-2009. Группа A     \t \t \t \t \t \t \t \t \t                                                 И            В            ВО            ПО            П            Г+/-            О                            1            Канада            3            3            0            0            0            22-4            9                            2            Белоруссия            3            1            1            0            1            6-8            5                            3            Словакия            3            1            0            1            1            8-12            4                            4            Венгрия            3            0            0            0            3            4-16            0            Группа BРоссия  Швейцария  4:2 (1:2, 1:0, 2:0)1:0  02.19 Атюшов (Ковальчук, Гребешков)1:1  09.46 Гарднер (Рютеманн, Блинденбахер), ГБ1:2  17.17 Плюсс (Штрайт, Рютеманн), ГБ2:2  29.08 Ковальчук (Зиновьев)3:2  48.28 Морозов (Ковальчук)4:2  59.45 Пережогин, ПВВратари: Брызгалов  Гербер (58.50  59.45 ПВ).Франция  Германия  2:1 (2:1, 0:0, 0:0)1:0  03.50 Люссье1:1  04.22 Хехт (Бакос), ГБ2:1  16.48 Тардиф (Менье)Вратари: Ланри  Патцольд (58.35  60.00 ПВ).ЧМ-2009. Группа B     \t \t \t \t \t \t \t \t \t                                                 И            В            ВО            ПО            П            Г+/-            О                            1            Россия            3            3            0            0            0            16-4            9                            2            Швейцария            3            1            1            0            1            6-6            5                            3            Франция            3            1            0            0            2            4-9            3                            4            Германия            3            0            0            1            2            3-10            1            ПРИМЕЧАНИЕ: время начала матчей  московское.\n",
      "==== after =====\n",
      "Защитник сборной России и казанского Ак Барса Илья Никулин объяснил, с чем связано то, что после первого периода матча группового турнира чемпионата мира между Россией и Швейцарией, хозяева турнира выигрывают со счетом 2:1.Это только первый период. У нас было много удалений, два из них швейцарцы реализовали. Они постоянно набрасывали шайбу на пятак и старались сыграть на добивании.Мы создали мало моментов, во втором периоде постараемся изменить эту ситуацию. Будем внимательнее играть в обороне, не позволять швейцарцам добивать шайбу, не давать бросать и поменьше нарушать правила,  сказал Никулин в эфире телеканала Спорт.\n",
      "==== after =====\n",
      "Нападающий сборной России и омского Авангарда Антон Курьянов после двух периодов матча группового турнира чемпионата мира с командой Швейцарии поделился впечатлениями от игры.Сегодняшний соперник посерьезнее, чем в первых двух матчах, но нам нужно доказать, что мы сильнее, потому что дальше нас ждут матчи с еще более сильными сборными.В первом периоде мы уступили швейцарцам в активности, во втором прибавили и смогли сравнять счет. В заключительном отрезке игры нам нужно побольше бросать по воротам, потому что иногда мы злоупотребляем игрой в пас, нужно прессинговать швейцарских защитников, которые уже наелись и подустали. Постараемся забить свои голы,  сказал Курьянов в эфире телеканала Спорт.\n",
      "==== after =====\n",
      "Главный тренер сборной России Вячеслав Быков после победы своей команды над сборной Швейцарии в заключительном матче группового турнира чемпионата мира (4:2) заявил, что его не удивила атакующая игра швейцарцев и что сборная России добилась победы благодаря тому, что воспользовалась ошибками хозяев турнира.Сегодня мы увидели в деле две хорошие команды, которые играли при потрясающей атмосфере. Меня не удивила игра сборной Швейцарии. Мы постарались воспользоваться их ошибками и преуспели в этом,  цитирует Быкова официальный сайт ИИХФ.По итогам группового этапа сборная России заняла первое место в группе В, одержав три победы в трех матчах.\n",
      "==== after =====\n",
      "Главный тренер сборной Швейцарии Ральф Крюгер после матча со сборной России (2:4) в групповом раунде чемпионата мира заявил, что несмотря на поражение это была лучшая игра швейцарской сборной против России в истории.Мы увидели, что можем играть с одним из фаворитов чемпионата мира. В этом состоит главный итог сегодняшнего матча. Нанести почти 40 бросков по воротам сборной России  это успех. Сегодня мы сыграли свой лучший матч против России в истории, даже лучше, чем победы в 1998 и 2000 годах, потому что тогда мы не могли сражаться с соперником на равных, и побеждали благодаря великолепной игре вратаря,  цитирует Крюгера официальный сайт ИИХФ.\n",
      "==== after =====\n",
      "Защитник сборной России и Салавата Юлаева Олег Твердовский заявил, что игра с Швейцарией (4:2) была очень полезна для российской сборной, так как помогла в подготовке к следующим играм на чемпионате мира.Чтобы подготовиться к решающим матчам, нам нужна была именно такая игра. Ничего хорошего в матчах, которые выигрываешь со счетом 5:0 или 7:2, потому что в них ты начинаешь позволять себе небольшие поблажки и недорабатывать во всех эпизодах на 100 процентов,  цитирует Твердовского официальный сайт ИИХФ.\n",
      "==== after =====\n",
      "Главный тренер сборной России Вячеслав Быков рассказал о заключительном матче первого группового раунда чемпионата мира со Швейцарией (4:2), проблемах со здоровьем Даниса Зарипова, признался, что не будет смотреть решающий матч серии плей-офф Вашингтон  Рейнджерс, а решение о возможном усилении сборной России освободившимися игроками из НХЛ примет завтра.Меня совершенно не удивила сборная Швейцарии. Мы прекрасно знали и предвидели, в какой хоккей она будет играть. Нужно почувствовать на своей шкуре определенную разницу в уровне соперников. Для нас чемпионат мира начался именно сейчас. Об этом я даже в раздевалке сказал. Не хочу принижать уровень немцев и французов, заявляя, что мы прохлаждались. Но в этих играх мы подсознательно успокаивались.В первом перерыве, как обычно, сделали анализ игры, внесли коррективы. Нужно было успокоить ребят, чтобы не вели себя так агрессивно по отношению к судьям. Хотя проколы-то в их действиях были. Например, вместо того, чтобы дать фол за блокировку Ильи Ковальчука, арбитры засчитывают второй гол в наши ворота. А ведь Ковальчук мог убежать один на один!Мы играли в три пары крайних форвардов, но старались распределить нагрузку равномерно. Наш стиль предусматривает, что в обороне работают все игроки. Когда темп высокий, нужна быстрота. В первом периоде ее не хватало. В итоге швейцарцы действовали агрессивнее, значительно перебросали нас. Но мы постепенно наладили взаимосвязь, перевели игру в чужую зону. И смогли победить, пусть нам не всегда хватало нацеленности на ворота.Наша беда  мы увлекаемся красотой. Отличный гол забили, когда Ковальчук с Морозовым убежали в контратаку. Это им комплимент. Ребята хотят показать фантастический хоккей. Но иногда это получается, а иногда выходит перебор.Несколько матчей Зарипов пропустит. Надо дать ему возможность восстановиться. Увы, есть вариант, что он вообще не сыграет больше на турнире. Наше кредо  не вредить здоровью игрока. Как бы он ни был нужен сборной. Рисковать Зариповым не будем. Примем решение совместно, но после того, как пройдет кризисный момент его болезни. Уж какой, уточнять не буду.Матч Вашингтон  Рейнджерс смотреть не буду. Лягу спать. Утром узнаю результат. Но поклонники не оставят нас без внимания. Будут кидать эсэмэски, сообщать счет. В течение завтрашнего дня мы сформируем окончательный состав сборной.Обязательно позвоним Набокову. Чтобы узнать о его самочувствии, просто поговорить. Это наш золотой фонд. Обязательно будет диалог с Набоковым, которого мы очень уважаем.В случае чего будем рассчитывать на тех игроков, которые у нас есть. Бабчук на данный момент не входит в круг кандидатов.Мы смотрим телевизор и переживаем за людей, заразившихся свиным гриппом. Слышал, случаи уже есть даже в России. Но если президент ИИХФ Рене Фазель озабочен этой проблемой, созывает пресс-конференцию, то участников чемпионата мира он защитит. Да и наши врачи будут начеку. Но тема новая  я даже не знаю, нужно ли делать прививки То у нас мировой кризис, то свиной грипп. Скорее бы эта туча прошла стороной,  цитирует Быкова Советский спорт.\n",
      "==== after =====\n",
      "Форвард сборной России Александр Пережогин заявил, что в матче третьего тура группового этапа ЧМ-2009 против Швейцарии (4:2) нашей команде не хватало нападающего Даниса Зарипова.Мы пока не можем выставлять на матчи полный состав, поэтому потеря любого игрока сильно бьет по игре команды. Особенно когда травмируется такой опасный форвард, как Зарипов.Швейцарские защитники в его отсутствие чувствовали себя вольготнее и агрессивнее участвовали в атаках,  приводит слова хоккеиста Спорт-Экспресс.\n",
      "==== after =====\n",
      "Сын главного тренера сборной России Вячеслава Быкова Андрей, имеющий швейцарское гражданство и выступающий за Фрибур, объяснил, почему он не попал в сборную Швейцарии на чемпионат мира, признался, что в матче Россия  Швейцария (4:2) болел за сборную России, но при необходимости вышел бы на лед против нее.В этом сезоне главный тренер Ральф Крюгер составил расширенный список сборной Швейцарии. Я в него попал. Но на домашний чемпионат мира не пробился. Какова вероятность, что я сыграл бы здесь? Точно больше, чем 20 процентов. Но в команде может быть только четыре центрфорварда. Видимо, Крюгер решил сделать ставку на ветеранов. Мне же только 21 год. Надеюсь, через год-два начну играть на таком уровне.Болел, конечно же, за наших. За Россию, за отца. Так всегда было, даже когда папа еще не стал тренером сборной. Так получается, что сборная Швейцарии мне ближе, в нее я могу попасть. Против России вышел бы без тени сомнения. Для меня это престижно.Если сравнивать с матчами против французов и немцев, то в игре со сборной России Швейцария прыгнула выше головы. Я даже удивился, как преобразилась швейцарская сборная,  сказал Андрей Быков в интервью Советскому спорту.\n",
      "==== after =====\n",
      "Нападающий сборной России и Салавата Юлаева Алексей Терещенко высказал мнение о заключительном матче первого группового раунда чемпионата мира со сборной Швейцарии (4:2) и заявил, что до окончания этого турнира не будет думать о том, в каком клубе он будет выступать в следующем сезоне.На этот раз мы столкнулись с более серьезным соперником. Может, хозяева начали не особо, но потом нас сломали удаления и мы пропустили необязательные голы. Во втором и третьем периодах прибавили  продемонстрировали комбинационный, агрессивный хоккей и, думаю, заслуженно победили. Может быть, в паре-тройке моментов мы заигрались, но, в принципе, сыграли в обороне нормально. Согласен, ошибки были, но не ошибается только тот, кто ничего не делает.Каждого травмированного игрока не хватает. У нас сейчас нет полноценных пятерок: все меняются. Поэтому мы бьемся, как говорится, за себя и за того парня.Соперничество еще никому не мешало. Но все вопросы по комплектованию команды  это головная боль тренерского штаба. От нас в этом плане мало что зависит. Думаю, и Еременко, и Брызгалов в порядке.На данный момент контракт с Салаватом Юлаевым у меня закончился, но пока не хотел бы говорить об этом. Сейчас думаю только о чемпионате мира.Сергей Михалев сейчас в Штутгарте, где ему была сделана операция на колене. Он позвонил, поздравил, что попали в заявку на чемпионат мира, пожелал удачи. Еще сказал, что будет болеть за нас,  сказал Терещенко в интервью газете Спорт день за днем.\n",
      "==== after =====\n",
      "Защитник сборной России и Салавата Юлаева Олег Твердовский объяснил, с чем были связаны проблемы, которые сборная России испытала в заключительном матче первого группового раунда чемпионата мира со Швейцарией (4:2).Мы может быть виноваты в том, что не совсем ожидали, что сегодня будет бой. Большинство думало, что мы возьмем эту игру малой кровью, и пытались уже по ходу игры перегруппироваться, но это не всегда получается.Мы выиграли игру за счет мастерства, за счет того, что у нас есть исполнители, которые реализовали те моменты, которые создали. В то же время было много шероховатостей. Думаю, у нас есть пара дней, чтобы вернуться к азам, вернуться к той игре, которая приносит победу в плей-офф, пусть даже она и не такая красивая. Следующая игра с нашей стороны будет более организованная. Мы можем играть намного сильнее.Твердовский не согласился с тем, что усеченный состав сборной России мог серьезным образом сказаться на ее игре. Я думаю дело не в том, что мы играли в усеченном составе, а в том, что было в голове. Это всего лишь третья игра. Нас немножко расслабили те две игры, которые мы провели, соперник был слабый. А сегодня мы встретили очень упорное сопротивление. Это должно нас встряхнуть немножко, потому что дальше будет все сложнее и сложнее,  цитирует Твердовского РИА Новости.Следующий матч сборная России проведет 30 апреля в Берне с командой, которая займет второе место в группе С.\n"
     ]
    }
   ],
   "source": [
    "match_id=19683\n",
    "news_scope = news[news.match_id==match_id]\n",
    "one_broadcast = broadcasts[broadcasts['match_id']==match_id].iloc[0]\n",
    "for i in range(len(news_scope)):\n",
    "        cur_news = news_scope.iloc[i]\n",
    "        ttn = time_type_news(cur_news, one_broadcast)\n",
    "        print(\"====\",ttn,\"=====\")\n",
    "        print(clean_news_text(cur_news.body))"
   ]
  },
  {
   "cell_type": "code",
   "execution_count": null,
   "metadata": {},
   "outputs": [],
   "source": []
  }
 ],
 "metadata": {
  "kernelspec": {
   "display_name": "ucu-2019-ml-final-project",
   "language": "python",
   "name": "myenv"
  },
  "language_info": {
   "codemirror_mode": {
    "name": "ipython",
    "version": 3
   },
   "file_extension": ".py",
   "mimetype": "text/x-python",
   "name": "python",
   "nbconvert_exporter": "python",
   "pygments_lexer": "ipython3",
   "version": "3.6.7"
  }
 },
 "nbformat": 4,
 "nbformat_minor": 2
}
