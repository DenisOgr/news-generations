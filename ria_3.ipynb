{
 "cells": [
  {
   "cell_type": "markdown",
   "metadata": {},
   "source": [
    "This idea of this experiment is re-play origin model: first sentence -> title. To do this experimtnt:\n",
    "- Getting dataset with only first sent (raw/source.txt and raw/target.txt)\n",
    "- Making BPE on it (raw/source.bpe and raw/target.bpe)\n",
    "- Split by 3 (source/train / source/valid / source/test)\n",
    "- Proprocess \n",
    "- Train\n",
    "- Translate\n",
    "\n",
    "Using 2 types of models:\n",
    " - encoder as RNN\n",
    " - encoder as transformer"
   ]
  },
  {
   "cell_type": "code",
   "execution_count": 13,
   "metadata": {},
   "outputs": [],
   "source": [
    "import pandas as pd\n",
    "from sklearn.model_selection import train_test_split\n",
    "import re\n",
    "from tqdm import tqdm_notebook\n",
    "import os\n",
    "import numpy as np\n",
    "from datetime import datetime\n",
    "pd.set_option('display.max_colwidth', -1)\n",
    "import sentencepiece as spm\n",
    "from nltk.tokenize import sent_tokenize\n"
   ]
  },
  {
   "cell_type": "code",
   "execution_count": 86,
   "metadata": {},
   "outputs": [],
   "source": [
    "def clean_news_text(text):\n",
    "    pattern = \"<strong>(.)*<\\/strong>\"\n",
    "    text=re.sub(pattern, \"\", text)\n",
    "    return  re.sub(\"(&#(?:\\d)*;)\", \"\", re.sub(\"<.*?>\", \"\", text)) \\\n",
    "    .replace(\"\\n\",\" \").replace(\"\\r\",\" \").replace(\"\\x96\",\"\") \\\n",
    "    .replace(\"&nbsp;\", \" \").replace(\"&mdash;\", \" \").strip()\n",
    "    "
   ]
  },
  {
   "cell_type": "code",
   "execution_count": 94,
   "metadata": {},
   "outputs": [],
   "source": [
    "raw_source_txt=\"./data/opennmt/ria_3/raw/source.txt\"\n",
    "raw_target_txt=\"./data/opennmt/ria_3/raw/target.txt\"\n",
    "raw_source_bpe=\"./data/opennmt/ria_3/raw/source.bpe\"\n",
    "raw_target_bpe=\"./data/opennmt/ria_3/raw/target.bpe\"\n",
    "model_bpe=\"./data/opennmt/transfer_learning_1/bpe/bpe_1/ria.model\""
   ]
  },
  {
   "cell_type": "markdown",
   "metadata": {},
   "source": [
    "### Prepare data"
   ]
  },
  {
   "cell_type": "markdown",
   "metadata": {},
   "source": [
    "Getting dataset with only first sent (raw/source.txt and raw/target.txt)"
   ]
  },
  {
   "cell_type": "code",
   "execution_count": 88,
   "metadata": {},
   "outputs": [],
   "source": [
    "chunksize = 1000\n",
    "news_reader = pd.read_json(\"./data/ria_news_dataset/ria.json.gz\", lines=True,  dtype=['object', 'object'], compression='gzip', chunksize=chunksize)"
   ]
  },
  {
   "cell_type": "code",
   "execution_count": 89,
   "metadata": {},
   "outputs": [
    {
     "data": {
      "application/vnd.jupyter.widget-view+json": {
       "model_id": "dac63c23b23543c7be2f5b5c75fed1ba",
       "version_major": 2,
       "version_minor": 0
      },
      "text/plain": [
       "HBox(children=(IntProgress(value=1, bar_style='info', max=1), HTML(value='')))"
      ]
     },
     "metadata": {},
     "output_type": "display_data"
    },
    {
     "name": "stdout",
     "output_type": "stream",
     "text": [
      "All rows:  997299\n"
     ]
    }
   ],
   "source": [
    "# count = 0\n",
    "# with(open(raw_source_txt, \"w\")) as f_s:\n",
    "#     with(open(raw_target_txt, \"w\")) as f_t:\n",
    "#         for news_chunk in tqdm_notebook(news_reader):\n",
    "#             news_chunk.text = news_chunk.text.apply(clean_news_text)\n",
    "#             for _, row in news_chunk.iterrows():\n",
    "#                 try:\n",
    "#                     sent = sent_tokenize(row.text)[0]\n",
    "#                 except IndexError:\n",
    "#                     #print(\"IndexError, raw text: \", row.text)\n",
    "#                     continue\n",
    "\n",
    "#                 if len(sent) > 5:\n",
    "#                     f_t.write(row.title +\"\\n\")\n",
    "#                     f_s.write(sent +\"\\n\")\n",
    "#                     count +=1\n",
    "\n",
    "# print(\"All rows: \", count)"
   ]
  },
  {
   "cell_type": "code",
   "execution_count": 90,
   "metadata": {},
   "outputs": [
    {
     "name": "stdout",
     "output_type": "stream",
     "text": [
      "  997299 ./data/opennmt/ria_3/raw/source.txt\n",
      "  997299 ./data/opennmt/ria_3/raw/target.txt\n"
     ]
    }
   ],
   "source": [
    "!wc -l $raw_source_txt\n",
    "!wc -l $raw_target_txt"
   ]
  },
  {
   "cell_type": "code",
   "execution_count": 91,
   "metadata": {},
   "outputs": [
    {
     "name": "stdout",
     "output_type": "stream",
     "text": [
      "большая часть из 33 детей, которых граждане сша пытались вывезти из гаити в организованный в доминиканской республике приют, не являются сиротами, сообщает в воскресенье агентство франс пресс со ссылкой на заявление представителя международной организации \"детские деревни sos\" (sos children's village), оказывающей помощь детям, оставшимся без родителей как заявила агентству патрисия варгас (patricia vargas), курирующая программы \"детских деревень sos\" в центральной америке, мексике и на карибах, поговорив с детьми она выяснила, что родители многих из них живы.\n",
      "премьер-министр украины, кандидат в президенты юлия тимошенко в воскресенье в прямом эфире украинского телеканала 1+1 заявила, что в случае ее победы на выборах президента юрий луценко будет работать в ее команде.\n",
      "до 7 февраля - того дня, когда граждане украины решат, кто на ближайшие пять лет возьмет бразды правления страной в свои руки, - осталась ровно неделя.\n",
      "группа вооруженных людей в ночь с субботы на воскресенье ворвалась в один из домов города сьюдад хуарес в мексиканском штате чиуауа, где местная молодежь собралась на вечеринку, и расстреляла 13 человек, еще 20 молодых людей получили ранения, сообщил представитель правоохранительных органов штата.\n",
      "немецкий теннисист михаэль беррер стал победителем турнира серии \"челленджер\" в хайльбронне (германия), призовой фонд которого составляет 85 тысяч евро.\n",
      "переходное торговое соглашение сербии с евросоюзом (ес), предусматривающее постепенную либерализацию торговли в течение шести лет и открывающее путь к интеграции белграда в ес, официально вступает в силу 1 февраля 2010 года, сообщается на сайте европейской комиссии.\n",
      "генеральный секретарь оон пан ги мун заявил в воскресенье, что уверен в способности греко-кипрской и турко-кипрской общин договориться о воссоединении разделенного по этническому признаку кипра.\n",
      "леверкузенский \"байер\" со счетом 3:1 на своем поле переиграл \"фрайбург\" в матче 20-го тура чемпионата германии по футболу и вернулся на первое место в турнирной таблице.\n",
      "генеральный секретарь оон пан ги мун прибыл в воскресенье с трехдневным визитом на кипр, чтобы помочь межобщинным переговорам по воссоединению острова, сообщили местные телеканалы.\n",
      "пожарным удалось ликвидировать возгорание, произошедшее в воскресенье вечером в гаражном кооперативе \"матвеевское\" на западе москвы, пострадавших нет, сообщил риа новости начальник пресс-службы столичного мчс евгений бобылев.\n",
      "------------------------------\n",
      "большинство детей, которых пытались увезти в сша из гаити, не сироты\n",
      "луценко будет работать в команде тимошенко, если она победит в выборах\n",
      "\"лютые\" выборы: есть ли вероятность второго майдана?\n",
      "жертвами бойни на севере мексики стали 13 молодых людей, еще 20 ранены\n",
      "немец беррер выиграл теннисный турнир на родине         \n",
      "переходное торговое соглашение сербии с ес вступает в силу 1 февраля\n",
      "генсек оон уверен в успехе мирных переговоров на кипре\n",
      "\"байер\" вернулся в лидеры чемпионата германии по футболу         \n",
      "генсек оон прибыл на кипр, чтобы помочь мирным переговорам\n",
      "ликвидирован пожар в гаражном кооперативе на западе москвы\n"
     ]
    }
   ],
   "source": [
    "!head -n 10 $raw_source_txt\n",
    "print(\"-\"*30)\n",
    "!head -n 10 $raw_target_txt"
   ]
  },
  {
   "cell_type": "markdown",
   "metadata": {},
   "source": [
    "Making BPE on it (raw/source.bpe and raw/target.bpe)"
   ]
  },
  {
   "cell_type": "code",
   "execution_count": 95,
   "metadata": {},
   "outputs": [],
   "source": [
    "def encode_bpe(model, inp, out):\n",
    "    \"\"\"\n",
    "    borrowed from https://github.com/deepvk/headline_gen_onmt/blob/master/bpe.py\n",
    "    \"\"\"\n",
    "    sp = spm.SentencePieceProcessor()\n",
    "    sp.load(model)\n",
    "    with open(inp, encoding=\"utf-8\") as fin:\n",
    "         with open(out, \"wt\", encoding=\"utf-8\") as fout:\n",
    "            for line in tqdm_notebook(fin):\n",
    "                sents = sent_tokenize(line.strip())\n",
    "                enc_line = \"\"\n",
    "                for sent in sents:\n",
    "                    enc_line += \" \".join(sp.EncodeAsPieces(sent))\n",
    "                fout.write(enc_line + \"\\n\")"
   ]
  },
  {
   "cell_type": "code",
   "execution_count": 96,
   "metadata": {},
   "outputs": [
    {
     "data": {
      "application/vnd.jupyter.widget-view+json": {
       "model_id": "32466d04004a4f5683d07b6ad67eb47d",
       "version_major": 2,
       "version_minor": 0
      },
      "text/plain": [
       "HBox(children=(IntProgress(value=1, bar_style='info', max=1), HTML(value='')))"
      ]
     },
     "metadata": {},
     "output_type": "display_data"
    },
    {
     "data": {
      "application/vnd.jupyter.widget-view+json": {
       "model_id": "45c01e1ee310456e9d8c9acd4ac4353e",
       "version_major": 2,
       "version_minor": 0
      },
      "text/plain": [
       "HBox(children=(IntProgress(value=1, bar_style='info', max=1), HTML(value='')))"
      ]
     },
     "metadata": {},
     "output_type": "display_data"
    }
   ],
   "source": [
    "# encode_bpe(model_bpe, raw_source_txt, raw_source_bpe)   \n",
    "# encode_bpe(model_bpe, raw_target_txt, raw_target_bpe)"
   ]
  },
  {
   "cell_type": "code",
   "execution_count": 97,
   "metadata": {},
   "outputs": [
    {
     "name": "stdout",
     "output_type": "stream",
     "text": [
      "  997299 ./data/opennmt/ria_3/raw/source.bpe\n",
      "  997299 ./data/opennmt/ria_3/raw/target.bpe\n"
     ]
    }
   ],
   "source": [
    "!wc -l $raw_source_bpe\n",
    "!wc -l $raw_target_bpe"
   ]
  },
  {
   "cell_type": "code",
   "execution_count": 99,
   "metadata": {},
   "outputs": [
    {
     "name": "stdout",
     "output_type": "stream",
     "text": [
      "▁большая ▁часть ▁из ▁33 ▁детей , ▁которых ▁граждане ▁сша ▁пытались ▁вывезти ▁из ▁гаити ▁в ▁организованный ▁в ▁доминиканской ▁республике ▁приют , ▁не ▁являются ▁сиро тами , ▁сообщает ▁в ▁воскресенье ▁агентство ▁франс ▁пресс ▁со ▁ссылкой ▁на ▁заявление ▁представителя ▁международной ▁организации ▁\" дет ские ▁деревни ▁s os \" ▁( s os ▁ch ild r en ' s ▁v ill age ), ▁оказы вающей ▁помощь ▁детям , ▁оста вшимся ▁без ▁родителей ▁как ▁заявила ▁агентству ▁патри сия ▁вар гас ▁( p at ric ia ▁v ar gas ), ▁кури рующая ▁программы ▁\" дет ских ▁деревень ▁s os \" ▁в ▁центральной ▁америке , ▁мексике ▁и ▁на ▁кари бах , ▁поговори в ▁с ▁детьми ▁она ▁выяснила , ▁что ▁родители ▁многих ▁из ▁них ▁живы .\n",
      "▁премьер - министр ▁украины , ▁кандидат ▁в ▁президенты ▁юлия ▁тимошенко ▁в ▁воскресенье ▁в ▁прямом ▁эфире ▁украинского ▁телеканала ▁1 + 1 ▁заявила , ▁что ▁в ▁случае ▁ее ▁победы ▁на ▁выборах ▁президента ▁юрий ▁луценко ▁будет ▁работать ▁в ▁ее ▁команде .\n",
      "▁до ▁7 ▁февраля ▁- ▁того ▁дня , ▁когда ▁граждане ▁украины ▁решат , ▁кто ▁на ▁ближайшие ▁пять ▁лет ▁возьмет ▁бра зды ▁правления ▁страной ▁в ▁свои ▁руки , ▁- ▁осталась ▁ровно ▁неделя .\n",
      "▁группа ▁вооруженных ▁людей ▁в ▁ночь ▁с ▁субботы ▁на ▁воскресенье ▁ворва лась ▁в ▁один ▁из ▁домов ▁города ▁сью дад ▁хуа рес ▁в ▁мексиканском ▁штате ▁чи уа уа , ▁где ▁местная ▁молодежь ▁собралась ▁на ▁вечерин ку , ▁и ▁расстре ляла ▁13 ▁человек , ▁еще ▁20 ▁молодых ▁людей ▁получили ▁ранения , ▁сообщил ▁представитель ▁правоохранитель ных ▁органов ▁штата .\n",
      "▁немецкий ▁теннисист ▁михаэль ▁бер рер ▁стал ▁победителем ▁турнира ▁серии ▁\" челленджер \" ▁в ▁хай ль брон не ▁( германия ), ▁призовой ▁фонд ▁которого ▁составляет ▁85 ▁тысяч ▁евро .\n",
      "▁переход ное ▁торгово е ▁соглашение ▁сербии ▁с ▁евросоюзом ▁( ес ), ▁предусматри вающее ▁постепен ную ▁либера лизацию ▁торговли ▁в ▁течение ▁шести ▁лет ▁и ▁откры вающее ▁путь ▁к ▁интеграции ▁белграда ▁в ▁ес , ▁официально ▁вступает ▁в ▁силу ▁1 ▁февраля ▁2010 ▁года , ▁сообщается ▁на ▁сайте ▁европейской ▁комиссии .\n",
      "▁генеральный ▁секретарь ▁оон ▁пан ▁ги ▁мун ▁заявил ▁в ▁воскресенье , ▁что ▁уверен ▁в ▁способности ▁греко - ки пр ской ▁и ▁тур ко - ки пр ской ▁общин ▁договориться ▁о ▁воссоедин ении ▁разде ленного ▁по ▁эт ниче скому ▁призна ку ▁кипра .\n",
      "▁леверкуз енский ▁\" байер \" ▁со ▁счетом ▁3:1 ▁на ▁своем ▁поле ▁переиграл ▁\" фрайбург \" ▁в ▁матче ▁20- го ▁тура ▁чемпионата ▁германии ▁по ▁футболу ▁и ▁вернулся ▁на ▁первое ▁место ▁в ▁турнирной ▁таблице .\n",
      "▁генеральный ▁секретарь ▁оон ▁пан ▁ги ▁мун ▁прибыл ▁в ▁воскресенье ▁с ▁трехднев ным ▁визитом ▁на ▁кипр , ▁чтобы ▁помочь ▁меж об щи нным ▁переговорам ▁по ▁воссоедин ению ▁острова , ▁сообщили ▁местные ▁телеканалы .\n",
      "▁пожарным ▁удалось ▁ликвидировать ▁возгорание , ▁произошедшее ▁в ▁воскресенье ▁вечером ▁в ▁гара жном ▁коопера тиве ▁\" мат ве ев ское \" ▁на ▁западе ▁москвы , ▁пострадавших ▁нет , ▁сообщил ▁риа ▁новости ▁начальник ▁пресс - службы ▁столичного ▁мчс ▁евгений ▁бобылев .\n",
      "______________________________\n",
      "▁большинство ▁детей , ▁которых ▁пытались ▁увез ти ▁в ▁сша ▁из ▁гаити , ▁не ▁сиро ты\n",
      "▁луценко ▁будет ▁работать ▁в ▁команде ▁тимошенко , ▁если ▁она ▁победит ▁в ▁выборах\n",
      "▁\" лю тые \" ▁выборы : ▁есть ▁ли ▁вероятность ▁второго ▁майдана ?\n",
      "▁жертвами ▁бой ни ▁на ▁севере ▁мексики ▁стали ▁13 ▁молодых ▁людей , ▁еще ▁20 ▁ранены\n",
      "▁немец ▁бер рер ▁выиграл ▁теннисный ▁турнир ▁на ▁родине\n",
      "▁переход ное ▁торгово е ▁соглашение ▁сербии ▁с ▁ес ▁вступает ▁в ▁силу ▁1 ▁февраля\n",
      "▁генсек ▁оон ▁уверен ▁в ▁успе хе ▁мирных ▁переговоров ▁на ▁кипре\n",
      "▁\" байер \" ▁вернулся ▁в ▁лидеры ▁чемпионата ▁германии ▁по ▁футболу\n",
      "▁генсек ▁оон ▁прибыл ▁на ▁кипр , ▁чтобы ▁помочь ▁мирным ▁переговорам\n",
      "▁ликвидирован ▁пожар ▁в ▁гара жном ▁коопера тиве ▁на ▁западе ▁москвы\n"
     ]
    }
   ],
   "source": [
    "!head -n 10 $raw_source_bpe\n",
    "print(\"_\"*30)\n",
    "!head -n 10 $raw_target_bpe"
   ]
  },
  {
   "cell_type": "markdown",
   "metadata": {},
   "source": [
    "Split by 3 (source/train / source/valid / source/test)"
   ]
  },
  {
   "cell_type": "code",
   "execution_count": 100,
   "metadata": {},
   "outputs": [
    {
     "name": "stdout",
     "output_type": "stream",
     "text": [
      "Len data:  997299\n",
      "Len X_train:  798836\n",
      "Len X_val:  98733\n",
      "Len X_test:  99730\n"
     ]
    }
   ],
   "source": [
    "data = range(997299)\n",
    "X_train, X_test = train_test_split(data, test_size=0.1, random_state=42)\n",
    "X_train, X_val = train_test_split(X_train, test_size=0.11, random_state=42)\n",
    "print(\"Len data: \", len(data))\n",
    "print(\"Len X_train: \", len(X_train))\n",
    "print(\"Len X_val: \", len(X_val))\n",
    "print(\"Len X_test: \", len(X_test))"
   ]
  },
  {
   "cell_type": "code",
   "execution_count": 104,
   "metadata": {},
   "outputs": [],
   "source": [
    "def generate_data(X, pref):\n",
    "    X=set(X)\n",
    "    print(\"Start. Len: \", len(X))\n",
    "    i=0\n",
    "    buffer_size=0\n",
    "    text=\"\"\n",
    "    title=\"\"\n",
    "    with(open(raw_source_bpe, \"r\")) as f_source:\n",
    "        with(open(raw_target_bpe, \"r\")) as f_target:\n",
    "            with(open(\"./data/opennmt/ria_3/source/%s_src.bpe\"%(pref), \"w\")) as f_src:\n",
    "                with(open(\"./data/opennmt/ria_3/source/%s_tgt.bpe\"%(pref), \"w\")) as f_tgt:\n",
    "                    for l_title in tqdm_notebook(f_target):\n",
    "                        l_text = f_source.readline()\n",
    "                        if i in X:\n",
    "                            text += l_text\n",
    "                            title += l_title\n",
    "                            buffer_size +=1\n",
    "                        if buffer_size > 1000:\n",
    "                            f_src.write(text)\n",
    "                            f_tgt.write(title)\n",
    "                            buffer_size =0\n",
    "                            text=\"\"\n",
    "                            title=\"\"\n",
    "                        i +=1     "
   ]
  },
  {
   "cell_type": "code",
   "execution_count": 105,
   "metadata": {},
   "outputs": [
    {
     "name": "stdout",
     "output_type": "stream",
     "text": [
      "Start. Len:  798836\n"
     ]
    },
    {
     "data": {
      "application/vnd.jupyter.widget-view+json": {
       "model_id": "8452edc05f0244d1b1df5c30e1d4a803",
       "version_major": 2,
       "version_minor": 0
      },
      "text/plain": [
       "HBox(children=(IntProgress(value=1, bar_style='info', max=1), HTML(value='')))"
      ]
     },
     "metadata": {},
     "output_type": "display_data"
    },
    {
     "name": "stdout",
     "output_type": "stream",
     "text": [
      "Start. Len:  99730\n"
     ]
    },
    {
     "data": {
      "application/vnd.jupyter.widget-view+json": {
       "model_id": "f6463f1beeeb4d24aeeffd7fc55f3daa",
       "version_major": 2,
       "version_minor": 0
      },
      "text/plain": [
       "HBox(children=(IntProgress(value=1, bar_style='info', max=1), HTML(value='')))"
      ]
     },
     "metadata": {},
     "output_type": "display_data"
    },
    {
     "name": "stdout",
     "output_type": "stream",
     "text": [
      "Start. Len:  98733\n"
     ]
    },
    {
     "data": {
      "application/vnd.jupyter.widget-view+json": {
       "model_id": "d50fa2be2f7a48f4870051e3de8d62e7",
       "version_major": 2,
       "version_minor": 0
      },
      "text/plain": [
       "HBox(children=(IntProgress(value=1, bar_style='info', max=1), HTML(value='')))"
      ]
     },
     "metadata": {},
     "output_type": "display_data"
    }
   ],
   "source": [
    "generate_data(X_train, \"train\")\n",
    "generate_data(X_test, \"test\")\n",
    "generate_data(X_val, \"valid\")"
   ]
  },
  {
   "cell_type": "code",
   "execution_count": 106,
   "metadata": {},
   "outputs": [
    {
     "name": "stdout",
     "output_type": "stream",
     "text": [
      "  798798 ./data/opennmt/ria_3/source/train_src.bpe\n",
      "  798798 ./data/opennmt/ria_3/source/train_tgt.bpe\n",
      "   99099 ./data/opennmt/ria_3/source/test_src.bpe\n",
      "   99099 ./data/opennmt/ria_3/source/test_tgt.bpe\n",
      "   98098 ./data/opennmt/ria_3/source/valid_src.bpe\n",
      "   98098 ./data/opennmt/ria_3/source/valid_tgt.bpe\n"
     ]
    }
   ],
   "source": [
    "!wc -l \"./data/opennmt/ria_3/source/train_src.bpe\"\n",
    "!wc -l \"./data/opennmt/ria_3/source/train_tgt.bpe\"\n",
    "!wc -l \"./data/opennmt/ria_3/source/test_src.bpe\"\n",
    "!wc -l \"./data/opennmt/ria_3/source/test_tgt.bpe\"\n",
    "!wc -l \"./data/opennmt/ria_3/source/valid_src.bpe\"\n",
    "!wc -l \"./data/opennmt/ria_3/source/valid_tgt.bpe\""
   ]
  },
  {
   "cell_type": "code",
   "execution_count": 107,
   "metadata": {},
   "outputs": [
    {
     "name": "stdout",
     "output_type": "stream",
     "text": [
      "building file list ... done\n",
      "test_src.bpe\n",
      "test_tgt.bpe\n",
      "train_src.bpe\n",
      "train_tgt.bpe\n",
      "valid_src.bpe\n",
      "valid_tgt.bpe\n",
      "\n",
      "sent 609433906 bytes  received 152 bytes  4131756.33 bytes/sec\n",
      "total size is 609359095  speedup is 1.00\n"
     ]
    }
   ],
   "source": [
    "!rsync -r -v --ignore-existing ./data/opennmt/ria_3/source/ ods:/data/denisogr/opennmt/ria_3/source"
   ]
  },
  {
   "cell_type": "code",
   "execution_count": 31,
   "metadata": {},
   "outputs": [],
   "source": [
    "### Proprocess"
   ]
  },
  {
   "cell_type": "code",
   "execution_count": null,
   "metadata": {},
   "outputs": [],
   "source": [
    "python \"/data/denisogr/opennmt/OpenNMT/preprocess.py\" \\\n",
    "-train_src \"/data/denisogr/opennmt/ria_3/source/train_src.bpe\" \\\n",
    "-train_tgt \"/data/denisogr/opennmt/ria_3/source/train_tgt.bpe\" \\\n",
    "-valid_src \"/data/denisogr/opennmt/ria_3/source/valid_src.bpe\" \\\n",
    "-valid_tgt \"/data/denisogr/opennmt/ria_3/source/valid_tgt.bpe\" \\\n",
    "-save_data \"/data/denisogr/opennmt/ria_3/data/data\" \\\n",
    "-share_vocab \\\n",
    "-dynamic_dict \\\n",
    "-src_vocab_size 50000 \\\n",
    "-report_every 1000 \\\n",
    "-shard_size 100000 \\\n",
    "-src_seq_length_trunc 10000 \\\n",
    "-tgt_seq_length 10000 \\\n",
    "-src_seq_length 10000"
   ]
  },
  {
   "cell_type": "markdown",
   "metadata": {},
   "source": [
    "encoder as RNN"
   ]
  },
  {
   "cell_type": "code",
   "execution_count": null,
   "metadata": {},
   "outputs": [],
   "source": [
    "python -W ignore \"/data/denisogr/opennmt/OpenNMT/train.py\" \\\n",
    "-data \"/data/denisogr/opennmt/ria_3/data/data\" \\\n",
    "-save_model \"/data/denisogr/opennmt/ria_3/model/model_rnn\" \\\n",
    "-share_embeddings \\\n",
    "-batch_size 32 \\\n",
    "-valid_batch_size 32 \\\n",
    "-copy_attn \\\n",
    "-global_attention mlp \\\n",
    "-word_vec_size 128 \\\n",
    "-rnn_size 512 \\\n",
    "-layers 1 \\\n",
    "-encoder_type brnn \\\n",
    "-max_grad_norm 2 \\\n",
    "-dropout 0. \\\n",
    "-optim adagrad \\\n",
    "-adagrad_accumulator_init 0.1 \\\n",
    "-reuse_copy_attn \\\n",
    "-copy_loss_by_seqlength \\\n",
    "-bridge \\\n",
    "-seed 42 \\\n",
    "-gpu_ranks 0 \\\n",
    "-save_checkpoint_steps 10000 \\\n",
    "-train_steps 300000 \\\n",
    "-learning_rate 0.001 \\\n",
    "-report_every 1000 \\\n",
    "-valid_steps 30000 \\\n",
    "-layers 4 \\\n",
    "-learning_rate 0.01 \\\n",
    "-encoder_type rnn \\\n",
    "-decoder_type rnn \\\n",
    "-rnn_size 128 \\\n",
    "-world_size 1 \\\n",
    "-tensorboard \\\n",
    "-tensorboard_log_dir \"/data/denisogr/opennmt/ria_3/log/tensorboard/\" \\\n",
    "-log_file \"/data/denisogr/opennmt/ria_3/log/rnn\""
   ]
  },
  {
   "cell_type": "code",
   "execution_count": null,
   "metadata": {},
   "outputs": [],
   "source": [
    "python \"/data/denisogr/opennmt/OpenNMT/translate.py\" \\\n",
    "-model \"/data/denisogr/opennmt/ria_3/model/model_rnn_step_270000.pt\" \\\n",
    "-src \"/data/denisogr/opennmt/ria_3/source/test_src.bpe\" \\\n",
    "-tgt \"/data/denisogr/opennmt/ria_3/source/test_tgt.bpe\" \\\n",
    "-output \"/data/denisogr/opennmt/ria_3/source/test_result_rnn.bpe\" \\\n",
    "-beam_size 10 \\\n",
    "-dynamic_dict \\\n",
    "-share_vocab \\\n",
    "-batch_size 2 \\\n",
    "-batch_type sents \\\n",
    "-gpu 0 \\\n",
    "-seed 42"
   ]
  },
  {
   "cell_type": "markdown",
   "metadata": {},
   "source": [
    "encoder as BRNN "
   ]
  },
  {
   "cell_type": "code",
   "execution_count": null,
   "metadata": {},
   "outputs": [],
   "source": [
    "python -W ignore \"/data/denisogr/opennmt/OpenNMT/train.py\" \\\n",
    "-data \"/data/denisogr/opennmt/ria_3/data/data\" \\\n",
    "-save_model \"/data/denisogr/opennmt/ria_3/model/model_brnn\" \\\n",
    "-share_embeddings \\\n",
    "-batch_size 32 \\\n",
    "-valid_batch_size 32 \\\n",
    "-copy_attn \\\n",
    "-global_attention mlp \\\n",
    "-word_vec_size 128 \\\n",
    "-rnn_size 512 \\\n",
    "-layers 1 \\\n",
    "-encoder_type brnn \\\n",
    "-max_grad_norm 2 \\\n",
    "-dropout 0. \\\n",
    "-optim adagrad \\\n",
    "-adagrad_accumulator_init 0.1 \\\n",
    "-reuse_copy_attn \\\n",
    "-copy_loss_by_seqlength \\\n",
    "-bridge \\\n",
    "-seed 42 \\\n",
    "-gpu_ranks 0 \\\n",
    "-save_checkpoint_steps 30000 \\\n",
    "-train_steps 300000 \\\n",
    "-learning_rate 0.001 \\\n",
    "-report_every 1000 \\\n",
    "-valid_steps 30000 \\\n",
    "-layers 4 \\\n",
    "-learning_rate 0.01 \\\n",
    "-encoder_type brnn \\\n",
    "-decoder_type rnn \\\n",
    "-rnn_size 128 \\\n",
    "-world_size 1 \\\n",
    "-tensorboard \\\n",
    "-tensorboard_log_dir \"/data/denisogr/opennmt/ria_3/log/tensorboard/brnn\" \\\n",
    "-log_file \"/data/denisogr/opennmt/ria_3/log/brnn\""
   ]
  },
  {
   "cell_type": "code",
   "execution_count": null,
   "metadata": {},
   "outputs": [],
   "source": [
    "python \"/data/denisogr/opennmt/OpenNMT/translate.py\" \\\n",
    "-model \"/data/denisogr/opennmt/ria_3/model/model_brnn_step_300000.pt\" \\\n",
    "-src \"/data/denisogr/opennmt/ria_3/source/test_src.bpe\" \\\n",
    "-tgt \"/data/denisogr/opennmt/ria_3/source/test_tgt.bpe\" \\\n",
    "-output \"/data/denisogr/opennmt/ria_3/source/test_result_brnn.bpe\" \\\n",
    "-beam_size 10 \\\n",
    "-dynamic_dict \\\n",
    "-share_vocab \\\n",
    "-batch_size 2 \\\n",
    "-batch_type sents \\\n",
    "-gpu 0 \\\n",
    "-seed 42"
   ]
  },
  {
   "cell_type": "markdown",
   "metadata": {},
   "source": [
    "transformers"
   ]
  },
  {
   "cell_type": "code",
   "execution_count": null,
   "metadata": {},
   "outputs": [],
   "source": [
    "python -W ignore \"/data/denisogr/opennmt/OpenNMT/train.py\" \\\n",
    "-data \"/data/denisogr/opennmt/ria_3/data/data\" \\\n",
    "-save_model \"/data/denisogr/opennmt/ria_3/model/model_tr\" \\\n",
    "-share_embeddings \\\n",
    "-batch_size 16 \\\n",
    "-valid_batch_size 16 \\\n",
    "-copy_attn \\\n",
    "-global_attention mlp \\\n",
    "-word_vec_size 128 \\\n",
    "-rnn_size 512 \\\n",
    "-layers 1 \\\n",
    "-encoder_type brnn \\\n",
    "-max_grad_norm 2 \\\n",
    "-dropout 0. \\\n",
    "-optim adagrad \\\n",
    "-adagrad_accumulator_init 0.1 \\\n",
    "-reuse_copy_attn \\\n",
    "-copy_loss_by_seqlength \\\n",
    "-bridge \\\n",
    "-seed 42 \\\n",
    "-gpu_ranks 0 \\\n",
    "-save_checkpoint_steps 30000 \\\n",
    "-train_steps 300000 \\\n",
    "-learning_rate 0.001 \\\n",
    "-report_every 1000 \\\n",
    "-valid_steps 30000 \\\n",
    "-layers 4 \\\n",
    "-learning_rate 0.01 \\\n",
    "-encoder_type transformer \\\n",
    "-decoder_type transformer \\\n",
    "-rnn_size 128 \\\n",
    "-world_size 1 \\\n",
    "-tensorboard \\\n",
    "-tensorboard_log_dir \"/data/denisogr/opennmt/ria_3/log/tensorboard/\" \\\n",
    "-log_file \"/data/denisogr/opennmt/ria_3/log/rnn\""
   ]
  },
  {
   "cell_type": "markdown",
   "metadata": {},
   "source": [
    "-train_from:"
   ]
  },
  {
   "cell_type": "code",
   "execution_count": null,
   "metadata": {},
   "outputs": [],
   "source": [
    "python -W ignore \"/data/denisogr/opennmt/OpenNMT/train.py\" \\\n",
    "-data \"/data/denisogr/opennmt/ria_3/data/data\" \\\n",
    "-save_model \"/data/denisogr/opennmt/ria_3/model/model_tr\" \\\n",
    "-train_from \"/data/denisogr/opennmt/ria_3/model/model_tr_step_30000.pt\" \\\n",
    "-share_embeddings \\\n",
    "-batch_size 8 \\\n",
    "-valid_batch_size 8 \\\n",
    "-copy_attn \\\n",
    "-global_attention mlp \\\n",
    "-word_vec_size 128 \\\n",
    "-rnn_size 512 \\\n",
    "-layers 1 \\\n",
    "-encoder_type brnn \\\n",
    "-max_grad_norm 2 \\\n",
    "-dropout 0. \\\n",
    "-optim adagrad \\\n",
    "-adagrad_accumulator_init 0.1 \\\n",
    "-reuse_copy_attn \\\n",
    "-copy_loss_by_seqlength \\\n",
    "-bridge \\\n",
    "-seed 42 \\\n",
    "-gpu_ranks 0 \\\n",
    "-save_checkpoint_steps 30000 \\\n",
    "-train_steps 300000 \\\n",
    "-learning_rate 0.001 \\\n",
    "-report_every 1000 \\\n",
    "-valid_steps 30000 \\\n",
    "-layers 4 \\\n",
    "-learning_rate 0.01 \\\n",
    "-encoder_type transformer \\\n",
    "-decoder_type transformer \\\n",
    "-rnn_size 128 \\\n",
    "-world_size 1 \\\n",
    "-tensorboard \\\n",
    "-exp \"ria_3_tr\" \\\n",
    "-tensorboard_log_dir \"/data/denisogr/opennmt/ria_3/log/tensorboard/\" \\\n",
    "-log_file \"/data/denisogr/opennmt/ria_3/log/tr\""
   ]
  },
  {
   "cell_type": "code",
   "execution_count": null,
   "metadata": {},
   "outputs": [],
   "source": [
    "python \"/data/denisogr/opennmt/OpenNMT/translate.py\" \\\n",
    "-model \"/data/denisogr/opennmt/ria_3/model/model_tr_step_300000.pt\" \\\n",
    "-src \"/data/denisogr/opennmt/ria_3/source/test_src.bpe\" \\\n",
    "-tgt \"/data/denisogr/opennmt/ria_3/source/test_tgt.bpe\" \\\n",
    "-output \"/data/denisogr/opennmt/ria_3/source/test_result_tr.bpe\" \\\n",
    "-beam_size 10 \\\n",
    "-dynamic_dict \\\n",
    "-share_vocab \\\n",
    "-batch_size 2 \\\n",
    "-batch_type sents \\\n",
    "-gpu 0 \\\n",
    "-seed 42"
   ]
  },
  {
   "cell_type": "markdown",
   "metadata": {
    "scrolled": true
   },
   "source": [
    "#### UnBPE"
   ]
  },
  {
   "cell_type": "code",
   "execution_count": 6,
   "metadata": {},
   "outputs": [],
   "source": [
    "def _unbpe(text):\n",
    "    \"\"\"\n",
    "    borrowed from https://github.com/deepvk/headline_gen_onmt/blob/master/unbpe.py\n",
    "    \"\"\"\n",
    "    tokens = text.split()\n",
    "    words = []\n",
    "    for token in tokens:\n",
    "        if not token.startswith(\"▁\") and words:\n",
    "            words[-1] += token\n",
    "        else:\n",
    "            if token.startswith(\"▁\"):\n",
    "                words.append(token[1:])\n",
    "            else:\n",
    "                words.append(token)\n",
    "    if not words:\n",
    "        words = [\" \"]\n",
    "    return \" \".join(words)"
   ]
  },
  {
   "cell_type": "code",
   "execution_count": 85,
   "metadata": {},
   "outputs": [],
   "source": [
    "def unbpe_file(source, target):\n",
    "    out = []\n",
    "    with open(source, encoding=\"utf-8\") as f:\n",
    "        for line in tqdm_notebook(f):\n",
    "            if len(line.replace(\".\",\"\")) < 2:\n",
    "                line = \"<unk>\"\n",
    "            out.append(_unbpe(line.strip()))\n",
    "    with open(target, \"wt\", encoding=\"utf-8\") as f:\n",
    "        for line in out:\n",
    "            f.write(line + \"\\n\")  "
   ]
  },
  {
   "cell_type": "code",
   "execution_count": 11,
   "metadata": {},
   "outputs": [
    {
     "name": "stdout",
     "output_type": "stream",
     "text": [
      "receiving file list ... done\n",
      "\n",
      "sent 16 bytes  received 62 bytes  52.00 bytes/sec\n",
      "total size is 7655085  speedup is 98142.12\n",
      "receiving file list ... done\n",
      "\n",
      "sent 16 bytes  received 61 bytes  154.00 bytes/sec\n",
      "total size is 9734605  speedup is 126423.44\n",
      "total 1224488\n",
      "drwxr-xr-x  10 denisporplenko  staff        320 Oct 28 08:24 \u001b[1m\u001b[36m.\u001b[m\u001b[m\n",
      "drwxr-xr-x   5 denisporplenko  staff        160 Oct 20 16:25 \u001b[1m\u001b[36m..\u001b[m\u001b[m\n",
      "-rw-r--r--   1 denisporplenko  staff    7655085 Oct 28 08:24 test_result_rnn.bpe\n",
      "-rw-r--r--   1 denisporplenko  staff    9734605 Oct 28 08:24 test_result_tr.bpe\n",
      "-rw-r--r--   1 denisporplenko  staff   46443287 Oct 20 00:15 test_src.bpe\n",
      "-rw-r--r--   1 denisporplenko  staff   14186491 Oct 20 00:15 test_tgt.bpe\n",
      "-rw-r--r--   1 denisporplenko  staff  374252901 Oct 20 00:15 train_src.bpe\n",
      "-rw-r--r--   1 denisporplenko  staff  114463232 Oct 20 00:15 train_tgt.bpe\n",
      "-rw-r--r--   1 denisporplenko  staff   45954490 Oct 20 00:15 valid_src.bpe\n",
      "-rw-r--r--   1 denisporplenko  staff   14058694 Oct 20 00:15 valid_tgt.bpe\n"
     ]
    }
   ],
   "source": [
    "# !rsync -r -v --ignore-existing ods:/data/denisogr/opennmt/ria_3/source/test_result_rnn.bpe ./data/opennmt/ria_3/source/test_result_rnn.bpe \n",
    "# !rsync -r -v --ignore-existing ods:/data/denisogr/opennmt/ria_3/source/test_result_tr.bpe ./data/opennmt/ria_3/source/test_result_tr.bpe     \n",
    "# !ls -la ./data/opennmt/ria_3/source/    \n",
    "    \n",
    "    \n",
    "    "
   ]
  },
  {
   "cell_type": "code",
   "execution_count": 86,
   "metadata": {
    "scrolled": true
   },
   "outputs": [
    {
     "data": {
      "application/vnd.jupyter.widget-view+json": {
       "model_id": "bb479395ec994fb7a3348e36711499f3",
       "version_major": 2,
       "version_minor": 0
      },
      "text/plain": [
       "HBox(children=(IntProgress(value=1, bar_style='info', max=1), HTML(value='')))"
      ]
     },
     "metadata": {},
     "output_type": "display_data"
    },
    {
     "name": "stdout",
     "output_type": "stream",
     "text": [
      "\n",
      "▁большая ▁часть ▁из ▁из , ▁в ▁в\n",
      "большая часть из из, в в\n"
     ]
    }
   ],
   "source": [
    "source = \"./data/opennmt/ria_3/source/test_result_rnn.bpe\"\n",
    "target = \"./data/opennmt/ria_3/source/test_result_rnn.txt\"\n",
    "unbpe_file(source,target)\n",
    "!head -n 1 $source\n",
    "!head -n 1 $target"
   ]
  },
  {
   "cell_type": "code",
   "execution_count": 93,
   "metadata": {},
   "outputs": [
    {
     "name": "stdout",
     "output_type": "stream",
     "text": [
      "большая часть из из, в в\r\n",
      "\"мальорка\" упустила в в\r\n",
      "сборная франции стала чемпионом в в\r\n",
      "волейболистки столичного \"динамо\" в\r\n",
      "четыре тысячи человек пострадали в в в\r\n",
      "участники завершившегося в в в в\r\n",
      "исландцы стали бронзовыми призерами в в\r\n",
      "ярославский \"шинник\" в в\r\n",
      "число краж из квартир и в в\r\n",
      "лауреатами премии \"русония перевод\r\n",
      "сотрудники северо-западного в в\r\n",
      "самолет с российскими медиками,, с\r\n",
      "лидер группировки тех--е\r\n",
      "рассказ был впервые на в в в\r\n",
      "валентина гризодубова,,\r\n",
      "председатель городской думы в в в\r\n",
      "консорциум во главе с с в в\r\n",
      "правительство великобритании направило,,,\r\n",
      "компания-инвесто \" \" в в\r\n",
      "теплоснабжение в субботу в в в в\r\n"
     ]
    }
   ],
   "source": [
    "!head -n 20 \"./data/opennmt/ria_3/source/test_result_rnn.txt\""
   ]
  },
  {
   "cell_type": "code",
   "execution_count": 87,
   "metadata": {},
   "outputs": [
    {
     "data": {
      "application/vnd.jupyter.widget-view+json": {
       "model_id": "5171de3fc3f44943a6614a83f84878bb",
       "version_major": 2,
       "version_minor": 0
      },
      "text/plain": [
       "HBox(children=(IntProgress(value=1, bar_style='info', max=1), HTML(value='')))"
      ]
     },
     "metadata": {},
     "output_type": "display_data"
    },
    {
     "name": "stdout",
     "output_type": "stream",
     "text": [
      "\n",
      "▁\" ▁мексике \" ▁в ▁мексике ▁в ▁мексике\n",
      "\" мексике\" в мексике в мексике\n"
     ]
    }
   ],
   "source": [
    "source = \"./data/opennmt/ria_3/source/test_result_tr.bpe\"\n",
    "target = \"./data/opennmt/ria_3/source/test_result_tr.txt\"\n",
    "unbpe_file(source,target)\n",
    "!head -n 1 $source\n",
    "!head -n 1 $target"
   ]
  },
  {
   "cell_type": "code",
   "execution_count": 92,
   "metadata": {},
   "outputs": [
    {
     "name": "stdout",
     "output_type": "stream",
     "text": [
      "\" мексике\" в мексике в мексике\r\n",
      "события, которые федерального округа \" футболу\"\r\n",
      "сборная хорватии в матче европы в матче европы\r\n",
      "волейболистки \"динамо\" \"динамо\" вдинамо\r\n",
      "четыре человек пострадали в южном человек\r\n",
      "россия в 2012 году обсудили в 2012 году\r\n",
      "австрии в австрии в австрии стали европы\r\n",
      "фк \"шинник\" \"шинник\" в товарищескомшинник\r\n",
      "число 15 млн руб на 15 млн руб в 2009 года\r\n",
      "перевод перевод перевод перевод премии премии премии\r\n",
      "финском рыбаков в финском спасли рыбаков\r\n",
      "самолет землетрясения в подмосковном землетрясения\r\n",
      "пакистан убит в пакистанских на пакистана\r\n",
      "события, которые федерального округа федерального округа\r\n",
      "события, которые\r\n",
      "кот- дтп в кот- районе дтп в кот- районе краснодара\r\n",
      "кур контракт с контракт с контракт с контракт с консорциум\r\n",
      "премьер- великобритании землетрясения в лондоне\r\n",
      "\"сити\" \"сити\" в границе в ростовской человек\r\n",
      "теплотрассе в челябинской дома в челябинской области\r\n"
     ]
    }
   ],
   "source": [
    "!head -n 20 \"./data/opennmt/ria_3/source/test_result_tr.txt\""
   ]
  },
  {
   "cell_type": "code",
   "execution_count": 88,
   "metadata": {},
   "outputs": [
    {
     "data": {
      "application/vnd.jupyter.widget-view+json": {
       "model_id": "dcc60d40a69b45e5980b3cab47403c33",
       "version_major": 2,
       "version_minor": 0
      },
      "text/plain": [
       "HBox(children=(IntProgress(value=1, bar_style='info', max=1), HTML(value='')))"
      ]
     },
     "metadata": {},
     "output_type": "display_data"
    },
    {
     "name": "stdout",
     "output_type": "stream",
     "text": [
      "\n",
      "▁большинство ▁детей , ▁которых ▁пытались ▁увез ти ▁в ▁сша ▁из ▁гаити , ▁не ▁сиро ты\n",
      "большинство детей, которых пытались увезти в сша из гаити, не сироты\n"
     ]
    }
   ],
   "source": [
    "source = \"./data/opennmt/ria_3/source/test_tgt.bpe\"\n",
    "target = \"./data/opennmt/ria_3/source/test_tgt.txt\"\n",
    "unbpe_file(source,target)\n",
    "!head -n 1 $source\n",
    "!head -n 1 $target"
   ]
  },
  {
   "cell_type": "code",
   "execution_count": 89,
   "metadata": {},
   "outputs": [
    {
     "name": "stdout",
     "output_type": "stream",
     "text": [
      "{\r\n",
      "  \"rouge-1\": {\r\n",
      "    \"f\": 0.19936475945056778,\r\n",
      "    \"p\": 0.30325507825512316,\r\n",
      "    \"r\": 0.15364351512529073\r\n",
      "  },\r\n",
      "  \"rouge-2\": {\r\n",
      "    \"f\": 0.05499596855309022,\r\n",
      "    \"p\": 0.0778820626223147,\r\n",
      "    \"r\": 0.04434793228041154\r\n",
      "  },\r\n",
      "  \"rouge-l\": {\r\n",
      "    \"f\": 0.16311268940180648,\r\n",
      "    \"p\": 0.29477507821668597,\r\n",
      "    \"r\": 0.1491508858388958\r\n",
      "  }\r\n",
      "}\r\n"
     ]
    }
   ],
   "source": [
    "!rouge/rouge_cmd -f \"./data/opennmt/ria_3/source/test_result_rnn.txt\"  \"./data/opennmt/ria_3/source/test_tgt.txt\" --avg"
   ]
  },
  {
   "cell_type": "code",
   "execution_count": 90,
   "metadata": {},
   "outputs": [
    {
     "name": "stdout",
     "output_type": "stream",
     "text": [
      "{\r\n",
      "  \"rouge-1\": {\r\n",
      "    \"f\": 0.21535114431614583,\r\n",
      "    \"p\": 0.31567607367495365,\r\n",
      "    \"r\": 0.16954334787068426\r\n",
      "  },\r\n",
      "  \"rouge-2\": {\r\n",
      "    \"f\": 0.05227308138123827,\r\n",
      "    \"p\": 0.07048183826026497,\r\n",
      "    \"r\": 0.04311936894900056\r\n",
      "  },\r\n",
      "  \"rouge-l\": {\r\n",
      "    \"f\": 0.17166434787887544,\r\n",
      "    \"p\": 0.2939450524260378,\r\n",
      "    \"r\": 0.15700530548900687\r\n",
      "  }\r\n",
      "}\r\n"
     ]
    }
   ],
   "source": [
    "!rouge/rouge_cmd -f --ignore_empty \"./data/opennmt/ria_3/source/test_result_tr.txt\"  \"./data/opennmt/ria_3/source/test_tgt.txt\" --avg\n"
   ]
  }
 ],
 "metadata": {
  "kernelspec": {
   "display_name": "Python 3",
   "language": "python",
   "name": "python3"
  },
  "language_info": {
   "codemirror_mode": {
    "name": "ipython",
    "version": 3
   },
   "file_extension": ".py",
   "mimetype": "text/x-python",
   "name": "python",
   "nbconvert_exporter": "python",
   "pygments_lexer": "ipython3",
   "version": "3.7.4"
  }
 },
 "nbformat": 4,
 "nbformat_minor": 2
}
